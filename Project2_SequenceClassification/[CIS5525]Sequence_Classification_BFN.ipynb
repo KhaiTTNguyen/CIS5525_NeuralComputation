{
  "nbformat": 4,
  "nbformat_minor": 0,
  "metadata": {
    "colab": {
      "name": "GRU-sequence-classifier",
      "provenance": [],
      "collapsed_sections": []
    },
    "kernelspec": {
      "display_name": "Python 3",
      "language": "python",
      "name": "python3"
    },
    "language_info": {
      "codemirror_mode": {
        "name": "ipython",
        "version": 3
      },
      "file_extension": ".py",
      "mimetype": "text/x-python",
      "name": "python",
      "nbconvert_exporter": "python",
      "pygments_lexer": "ipython3",
      "version": "3.7.1"
    },
    "widgets": {
      "application/vnd.jupyter.widget-state+json": {
        "438e98a066404cbdb9f708a6f4a11ad6": {
          "model_module": "@jupyter-widgets/controls",
          "model_name": "HBoxModel",
          "state": {
            "_view_name": "HBoxView",
            "_dom_classes": [],
            "_model_name": "HBoxModel",
            "_view_module": "@jupyter-widgets/controls",
            "_model_module_version": "1.5.0",
            "_view_count": null,
            "_view_module_version": "1.5.0",
            "box_style": "",
            "layout": "IPY_MODEL_4a999dbf6d324a328e003d7288539e72",
            "_model_module": "@jupyter-widgets/controls",
            "children": [
              "IPY_MODEL_f39afe0adc0742688fe97c9efcb350d3",
              "IPY_MODEL_86645bfdd1924ddc883bad0d755dfe5d"
            ]
          }
        },
        "4a999dbf6d324a328e003d7288539e72": {
          "model_module": "@jupyter-widgets/base",
          "model_name": "LayoutModel",
          "state": {
            "_view_name": "LayoutView",
            "grid_template_rows": null,
            "right": null,
            "justify_content": null,
            "_view_module": "@jupyter-widgets/base",
            "overflow": null,
            "_model_module_version": "1.2.0",
            "_view_count": null,
            "flex_flow": null,
            "width": null,
            "min_width": null,
            "border": null,
            "align_items": null,
            "bottom": null,
            "_model_module": "@jupyter-widgets/base",
            "top": null,
            "grid_column": null,
            "overflow_y": null,
            "overflow_x": null,
            "grid_auto_flow": null,
            "grid_area": null,
            "grid_template_columns": null,
            "flex": null,
            "_model_name": "LayoutModel",
            "justify_items": null,
            "grid_row": null,
            "max_height": null,
            "align_content": null,
            "visibility": null,
            "align_self": null,
            "height": null,
            "min_height": null,
            "padding": null,
            "grid_auto_rows": null,
            "grid_gap": null,
            "max_width": null,
            "order": null,
            "_view_module_version": "1.2.0",
            "grid_template_areas": null,
            "object_position": null,
            "object_fit": null,
            "grid_auto_columns": null,
            "margin": null,
            "display": null,
            "left": null
          }
        },
        "f39afe0adc0742688fe97c9efcb350d3": {
          "model_module": "@jupyter-widgets/controls",
          "model_name": "FloatProgressModel",
          "state": {
            "_view_name": "ProgressView",
            "style": "IPY_MODEL_a86101fc7cae44c8bdc330fb32f9e3df",
            "_dom_classes": [],
            "description": "100%",
            "_model_name": "FloatProgressModel",
            "bar_style": "success",
            "max": 246,
            "_view_module": "@jupyter-widgets/controls",
            "_model_module_version": "1.5.0",
            "value": 246,
            "_view_count": null,
            "_view_module_version": "1.5.0",
            "orientation": "horizontal",
            "min": 0,
            "description_tooltip": null,
            "_model_module": "@jupyter-widgets/controls",
            "layout": "IPY_MODEL_fac04b3ddf0545a08d81f6bd3da1bec7"
          }
        },
        "86645bfdd1924ddc883bad0d755dfe5d": {
          "model_module": "@jupyter-widgets/controls",
          "model_name": "HTMLModel",
          "state": {
            "_view_name": "HTMLView",
            "style": "IPY_MODEL_55f3f61f8a21497e9cf130afc43171eb",
            "_dom_classes": [],
            "description": "",
            "_model_name": "HTMLModel",
            "placeholder": "​",
            "_view_module": "@jupyter-widgets/controls",
            "_model_module_version": "1.5.0",
            "value": " 246/246 [01:49&lt;00:00,  2.24it/s]",
            "_view_count": null,
            "_view_module_version": "1.5.0",
            "description_tooltip": null,
            "_model_module": "@jupyter-widgets/controls",
            "layout": "IPY_MODEL_eb797d53a524459991a999d1ea627ca0"
          }
        },
        "a86101fc7cae44c8bdc330fb32f9e3df": {
          "model_module": "@jupyter-widgets/controls",
          "model_name": "ProgressStyleModel",
          "state": {
            "_view_name": "StyleView",
            "_model_name": "ProgressStyleModel",
            "description_width": "initial",
            "_view_module": "@jupyter-widgets/base",
            "_model_module_version": "1.5.0",
            "_view_count": null,
            "_view_module_version": "1.2.0",
            "bar_color": null,
            "_model_module": "@jupyter-widgets/controls"
          }
        },
        "fac04b3ddf0545a08d81f6bd3da1bec7": {
          "model_module": "@jupyter-widgets/base",
          "model_name": "LayoutModel",
          "state": {
            "_view_name": "LayoutView",
            "grid_template_rows": null,
            "right": null,
            "justify_content": null,
            "_view_module": "@jupyter-widgets/base",
            "overflow": null,
            "_model_module_version": "1.2.0",
            "_view_count": null,
            "flex_flow": null,
            "width": null,
            "min_width": null,
            "border": null,
            "align_items": null,
            "bottom": null,
            "_model_module": "@jupyter-widgets/base",
            "top": null,
            "grid_column": null,
            "overflow_y": null,
            "overflow_x": null,
            "grid_auto_flow": null,
            "grid_area": null,
            "grid_template_columns": null,
            "flex": null,
            "_model_name": "LayoutModel",
            "justify_items": null,
            "grid_row": null,
            "max_height": null,
            "align_content": null,
            "visibility": null,
            "align_self": null,
            "height": null,
            "min_height": null,
            "padding": null,
            "grid_auto_rows": null,
            "grid_gap": null,
            "max_width": null,
            "order": null,
            "_view_module_version": "1.2.0",
            "grid_template_areas": null,
            "object_position": null,
            "object_fit": null,
            "grid_auto_columns": null,
            "margin": null,
            "display": null,
            "left": null
          }
        },
        "55f3f61f8a21497e9cf130afc43171eb": {
          "model_module": "@jupyter-widgets/controls",
          "model_name": "DescriptionStyleModel",
          "state": {
            "_view_name": "StyleView",
            "_model_name": "DescriptionStyleModel",
            "description_width": "",
            "_view_module": "@jupyter-widgets/base",
            "_model_module_version": "1.5.0",
            "_view_count": null,
            "_view_module_version": "1.2.0",
            "_model_module": "@jupyter-widgets/controls"
          }
        },
        "eb797d53a524459991a999d1ea627ca0": {
          "model_module": "@jupyter-widgets/base",
          "model_name": "LayoutModel",
          "state": {
            "_view_name": "LayoutView",
            "grid_template_rows": null,
            "right": null,
            "justify_content": null,
            "_view_module": "@jupyter-widgets/base",
            "overflow": null,
            "_model_module_version": "1.2.0",
            "_view_count": null,
            "flex_flow": null,
            "width": null,
            "min_width": null,
            "border": null,
            "align_items": null,
            "bottom": null,
            "_model_module": "@jupyter-widgets/base",
            "top": null,
            "grid_column": null,
            "overflow_y": null,
            "overflow_x": null,
            "grid_auto_flow": null,
            "grid_area": null,
            "grid_template_columns": null,
            "flex": null,
            "_model_name": "LayoutModel",
            "justify_items": null,
            "grid_row": null,
            "max_height": null,
            "align_content": null,
            "visibility": null,
            "align_self": null,
            "height": null,
            "min_height": null,
            "padding": null,
            "grid_auto_rows": null,
            "grid_gap": null,
            "max_width": null,
            "order": null,
            "_view_module_version": "1.2.0",
            "grid_template_areas": null,
            "object_position": null,
            "object_fit": null,
            "grid_auto_columns": null,
            "margin": null,
            "display": null,
            "left": null
          }
        },
        "c9b2828de82246bba96edaf852063a64": {
          "model_module": "@jupyter-widgets/controls",
          "model_name": "HBoxModel",
          "state": {
            "_view_name": "HBoxView",
            "_dom_classes": [],
            "_model_name": "HBoxModel",
            "_view_module": "@jupyter-widgets/controls",
            "_model_module_version": "1.5.0",
            "_view_count": null,
            "_view_module_version": "1.5.0",
            "box_style": "",
            "layout": "IPY_MODEL_c8e3558d0f0d4111b64f77770296c484",
            "_model_module": "@jupyter-widgets/controls",
            "children": [
              "IPY_MODEL_9c7a384729af495798f644a9a7c35f67",
              "IPY_MODEL_6b4a6e1f35ff40df8aa7a40ed51de3f4"
            ]
          }
        },
        "c8e3558d0f0d4111b64f77770296c484": {
          "model_module": "@jupyter-widgets/base",
          "model_name": "LayoutModel",
          "state": {
            "_view_name": "LayoutView",
            "grid_template_rows": null,
            "right": null,
            "justify_content": null,
            "_view_module": "@jupyter-widgets/base",
            "overflow": null,
            "_model_module_version": "1.2.0",
            "_view_count": null,
            "flex_flow": null,
            "width": null,
            "min_width": null,
            "border": null,
            "align_items": null,
            "bottom": null,
            "_model_module": "@jupyter-widgets/base",
            "top": null,
            "grid_column": null,
            "overflow_y": null,
            "overflow_x": null,
            "grid_auto_flow": null,
            "grid_area": null,
            "grid_template_columns": null,
            "flex": null,
            "_model_name": "LayoutModel",
            "justify_items": null,
            "grid_row": null,
            "max_height": null,
            "align_content": null,
            "visibility": null,
            "align_self": null,
            "height": null,
            "min_height": null,
            "padding": null,
            "grid_auto_rows": null,
            "grid_gap": null,
            "max_width": null,
            "order": null,
            "_view_module_version": "1.2.0",
            "grid_template_areas": null,
            "object_position": null,
            "object_fit": null,
            "grid_auto_columns": null,
            "margin": null,
            "display": null,
            "left": null
          }
        },
        "9c7a384729af495798f644a9a7c35f67": {
          "model_module": "@jupyter-widgets/controls",
          "model_name": "FloatProgressModel",
          "state": {
            "_view_name": "ProgressView",
            "style": "IPY_MODEL_cf10b96d91d94357973bc76b647b9f8e",
            "_dom_classes": [],
            "description": "100%",
            "_model_name": "FloatProgressModel",
            "bar_style": "success",
            "max": 20,
            "_view_module": "@jupyter-widgets/controls",
            "_model_module_version": "1.5.0",
            "value": 20,
            "_view_count": null,
            "_view_module_version": "1.5.0",
            "orientation": "horizontal",
            "min": 0,
            "description_tooltip": null,
            "_model_module": "@jupyter-widgets/controls",
            "layout": "IPY_MODEL_f388bbf077544829aae72961349cf41d"
          }
        },
        "6b4a6e1f35ff40df8aa7a40ed51de3f4": {
          "model_module": "@jupyter-widgets/controls",
          "model_name": "HTMLModel",
          "state": {
            "_view_name": "HTMLView",
            "style": "IPY_MODEL_61d68c6fc4b543a58a4a55915c9b7257",
            "_dom_classes": [],
            "description": "",
            "_model_name": "HTMLModel",
            "placeholder": "​",
            "_view_module": "@jupyter-widgets/controls",
            "_model_module_version": "1.5.0",
            "value": " 20/20 [00:00&lt;00:00, 22.18it/s]",
            "_view_count": null,
            "_view_module_version": "1.5.0",
            "description_tooltip": null,
            "_model_module": "@jupyter-widgets/controls",
            "layout": "IPY_MODEL_f69a1813367447a1a77649839450b7dc"
          }
        },
        "cf10b96d91d94357973bc76b647b9f8e": {
          "model_module": "@jupyter-widgets/controls",
          "model_name": "ProgressStyleModel",
          "state": {
            "_view_name": "StyleView",
            "_model_name": "ProgressStyleModel",
            "description_width": "initial",
            "_view_module": "@jupyter-widgets/base",
            "_model_module_version": "1.5.0",
            "_view_count": null,
            "_view_module_version": "1.2.0",
            "bar_color": null,
            "_model_module": "@jupyter-widgets/controls"
          }
        },
        "f388bbf077544829aae72961349cf41d": {
          "model_module": "@jupyter-widgets/base",
          "model_name": "LayoutModel",
          "state": {
            "_view_name": "LayoutView",
            "grid_template_rows": null,
            "right": null,
            "justify_content": null,
            "_view_module": "@jupyter-widgets/base",
            "overflow": null,
            "_model_module_version": "1.2.0",
            "_view_count": null,
            "flex_flow": null,
            "width": null,
            "min_width": null,
            "border": null,
            "align_items": null,
            "bottom": null,
            "_model_module": "@jupyter-widgets/base",
            "top": null,
            "grid_column": null,
            "overflow_y": null,
            "overflow_x": null,
            "grid_auto_flow": null,
            "grid_area": null,
            "grid_template_columns": null,
            "flex": null,
            "_model_name": "LayoutModel",
            "justify_items": null,
            "grid_row": null,
            "max_height": null,
            "align_content": null,
            "visibility": null,
            "align_self": null,
            "height": null,
            "min_height": null,
            "padding": null,
            "grid_auto_rows": null,
            "grid_gap": null,
            "max_width": null,
            "order": null,
            "_view_module_version": "1.2.0",
            "grid_template_areas": null,
            "object_position": null,
            "object_fit": null,
            "grid_auto_columns": null,
            "margin": null,
            "display": null,
            "left": null
          }
        },
        "61d68c6fc4b543a58a4a55915c9b7257": {
          "model_module": "@jupyter-widgets/controls",
          "model_name": "DescriptionStyleModel",
          "state": {
            "_view_name": "StyleView",
            "_model_name": "DescriptionStyleModel",
            "description_width": "",
            "_view_module": "@jupyter-widgets/base",
            "_model_module_version": "1.5.0",
            "_view_count": null,
            "_view_module_version": "1.2.0",
            "_model_module": "@jupyter-widgets/controls"
          }
        },
        "f69a1813367447a1a77649839450b7dc": {
          "model_module": "@jupyter-widgets/base",
          "model_name": "LayoutModel",
          "state": {
            "_view_name": "LayoutView",
            "grid_template_rows": null,
            "right": null,
            "justify_content": null,
            "_view_module": "@jupyter-widgets/base",
            "overflow": null,
            "_model_module_version": "1.2.0",
            "_view_count": null,
            "flex_flow": null,
            "width": null,
            "min_width": null,
            "border": null,
            "align_items": null,
            "bottom": null,
            "_model_module": "@jupyter-widgets/base",
            "top": null,
            "grid_column": null,
            "overflow_y": null,
            "overflow_x": null,
            "grid_auto_flow": null,
            "grid_area": null,
            "grid_template_columns": null,
            "flex": null,
            "_model_name": "LayoutModel",
            "justify_items": null,
            "grid_row": null,
            "max_height": null,
            "align_content": null,
            "visibility": null,
            "align_self": null,
            "height": null,
            "min_height": null,
            "padding": null,
            "grid_auto_rows": null,
            "grid_gap": null,
            "max_width": null,
            "order": null,
            "_view_module_version": "1.2.0",
            "grid_template_areas": null,
            "object_position": null,
            "object_fit": null,
            "grid_auto_columns": null,
            "margin": null,
            "display": null,
            "left": null
          }
        }
      }
    },
    "accelerator": "GPU"
  },
  "cells": [
    {
      "cell_type": "code",
      "metadata": {
        "id": "CaqDi5-9T6GC"
      },
      "source": [
        "! unzip Project2_data.zip "
      ],
      "execution_count": null,
      "outputs": []
    },
    {
      "cell_type": "code",
      "metadata": {
        "colab": {
          "base_uri": "https://localhost:8080/",
          "height": 757
        },
        "id": "RNbu3QJlk8yx",
        "outputId": "6495b7ad-985c-43b1-8d75-cce67274fb55"
      },
      "source": [
        "import os\n",
        "import time\n",
        "\n",
        "import numpy as np\n",
        "import pandas as pd\n",
        "import matplotlib.pyplot as plt\n",
        "\n",
        "import torch\n",
        "import torch.nn as nn\n",
        "from torch.utils.data import TensorDataset, DataLoader\n",
        "\n",
        "from tqdm import tqdm_notebook\n",
        "from sklearn.preprocessing import MinMaxScaler\n",
        "import seaborn as sns\n",
        "import os\n",
        "import time\n",
        "\n",
        "import numpy as np\n",
        "import pandas as pd\n",
        "import matplotlib.pyplot as plt\n",
        "\n",
        "import torch\n",
        "import torch.nn as nn\n",
        "data_dir = os.path.join(\"Project2_data\",\"Train\")\n",
        "file=\"train_sample100.csv\"\n",
        "df = pd.read_csv(os.path.join(data_dir,file)).T\n",
        "# s = df['A']\n",
        "print(df)\n",
        "# print(s)\n",
        "index=0\n",
        "data=df.iloc[:, index:index+10].T\n",
        "print(data)\n",
        "corr= data.corr()\n",
        "ax = sns.heatmap(\n",
        "    corr, \n",
        "    vmin=-1, vmax=1, center=0,\n",
        "    cmap=sns.diverging_palette(20, 220, n=200),\n",
        "    square=True\n",
        ")\n",
        "ax.set_xticklabels(\n",
        "    ax.get_xticklabels(),\n",
        "    rotation=45,\n",
        "    horizontalalignment='right'\n",
        ");\n"
      ],
      "execution_count": 67,
      "outputs": [
        {
          "output_type": "stream",
          "text": [
            "              0        1         2    ...       236      237       238\n",
            "-1.9819  -3.16860 -2.28180 -0.114000  ...  0.372030  1.02440  0.066127\n",
            "-2.2841  -3.03210 -1.63080  0.813850  ...  0.447020  0.81992 -0.346520\n",
            "-0.92302 -1.94690 -2.24080 -1.788600  ...  0.188380  0.67484  0.235640\n",
            "-1.1349  -2.44400 -2.77380 -2.007400  ...  0.157540  0.70737  0.249680\n",
            "-0.61764 -1.19280 -1.59820 -1.732400  ...  0.126170  0.32200  0.003727\n",
            "...           ...      ...       ...  ...       ...      ...       ...\n",
            "-1.2633  -2.04430 -1.36650  0.276040  ...  0.164030  0.57248  0.030455\n",
            "-0.31307 -0.66733 -0.52892  0.087866  ...  0.075487  0.24226  0.118350\n",
            "-0.104   -0.81115 -1.10820 -0.690720  ...  0.039384  0.38334  0.405340\n",
            "-0.82542 -0.52062  0.22913  0.829580  ...  0.105870 -0.10956 -0.560040\n",
            "-0.52942 -0.63330 -0.19738  0.325200  ...  0.092607  0.21487 -0.067697\n",
            "\n",
            "[94 rows x 239 columns]\n",
            "   -1.9819  -2.2841  -0.92302  -1.1349  ...  -0.31307   -0.104  -0.82542  -0.52942\n",
            "0  -3.1686 -3.03210 -1.946900 -2.44400  ... -0.667330 -0.81115 -0.520620  -0.63330\n",
            "1  -2.2818 -1.63080 -2.240800 -2.77380  ... -0.528920 -1.10820  0.229130  -0.19738\n",
            "2  -0.1140  0.81385 -1.788600 -2.00740  ...  0.087866 -0.69072  0.829580   0.32520\n",
            "3   1.5481  2.39480 -0.765750 -0.57451  ...  0.709780  0.14256  0.792190   0.33961\n",
            "4   1.8546  2.39830  0.728940  1.11410  ...  0.854190  0.77153  0.227280  -0.18122\n",
            "5   1.4801  1.70440  2.367700  2.74420  ...  0.482250  0.82887 -0.290860  -0.61926\n",
            "6   1.4599  1.38280  3.349400  3.82230  ... -0.006256  0.50428 -0.333350  -0.38662\n",
            "7   1.9279  1.42190  2.947000  3.78360  ... -0.193440  0.30134 -0.022642   0.41485\n",
            "8   2.2226  1.09270  1.423700  2.60990  ... -0.025157  0.51055  0.179430   1.09260\n",
            "9   1.9229  0.21310  0.086463  1.12350  ...  0.205280  0.91829  0.014607   1.09030\n",
            "\n",
            "[10 rows x 94 columns]\n"
          ],
          "name": "stdout"
        },
        {
          "output_type": "display_data",
          "data": {
            "image/png": "[encoded data removed]",
            "text/plain": [
              "<Figure size 432x288 with 2 Axes>"
            ]
          },
          "metadata": {
            "tags": [],
            "needs_background": "light"
          }
        }
      ]
    },
    {
      "cell_type": "code",
      "metadata": {
        "id": "ORHoxHYEgmrO"
      },
      "source": [
        ""
      ],
      "execution_count": 67,
      "outputs": []
    },
    {
      "cell_type": "code",
      "metadata": {
        "colab": {
          "base_uri": "https://localhost:8080/",
          "height": 117,
          "referenced_widgets": [
            "438e98a066404cbdb9f708a6f4a11ad6",
            "4a999dbf6d324a328e003d7288539e72",
            "f39afe0adc0742688fe97c9efcb350d3",
            "86645bfdd1924ddc883bad0d755dfe5d",
            "a86101fc7cae44c8bdc330fb32f9e3df",
            "fac04b3ddf0545a08d81f6bd3da1bec7",
            "55f3f61f8a21497e9cf130afc43171eb",
            "eb797d53a524459991a999d1ea627ca0"
          ]
        },
        "id": "VzE9j-7PTwxy",
        "outputId": "a214392a-adc2-4e09-a838-97e433d92a08"
      },
      "source": [
        "window = 10\n",
        "stride = 10\n",
        "def load_fmri(data_dir=None):\n",
        "    if data_dir == None:\n",
        "        data_dir = os.path.join(\"Project2_data\",\"Train\")\n",
        "    \n",
        "    # The scaler objects will be stored in this dictionary so that our output test data from the model can be re-scaled during evaluation\n",
        "\n",
        "    window = 10\n",
        "    stride = 10\n",
        "    # inputs = []# np.zeros()\n",
        "    labels = [] # np.zeros()\n",
        "    \n",
        "    \n",
        "    inputs = np.zeros((1, 23, 8836))\n",
        "    labels = np.zeros((1,1),dtype=int)\n",
        "\n",
        "    for file in tqdm_notebook(os.listdir(data_dir)): \n",
        "        # each file --> (corrM series, label)\n",
        "        df = pd.read_csv(os.path.join(data_dir,file)).T\n",
        "        corrM_sequence =  np.array([])\n",
        "        index = 0\n",
        "        while index <= len(df.columns)-window: #--- slice across columns\n",
        "              data=df.iloc[:, index:index+window].T # 10 datapoints at a time\n",
        "              corrM = data.corr().to_numpy().reshape((1,94*94)) #shape=(1,2)\n",
        "              if corrM_sequence.size == 0:\n",
        "                  corrM_sequence = np.copy(corrM)\n",
        "              else:\n",
        "                  corrM_sequence = np.concatenate((corrM_sequence, corrM), axis=0)\n",
        "              index += stride          \n",
        "        file_label = int(file[12:].replace(\".csv\", \"\"))\n",
        "        if file_label <= 144:\n",
        "            # labels.append(1)\n",
        "            labels = np.concatenate((labels, [[int(1)]]), axis=0)\n",
        "        else:\n",
        "            labels = np.concatenate((labels, [[int(0)]]), axis=0)\n",
        "\n",
        "        if inputs.size == 0:\n",
        "            inputs = np.copy(corrM_sequence)\n",
        "        else:\n",
        "            # print(\"Inputshape \" + str(inputs.shape))\n",
        "            # print(\"Seqshape \" + str(corrM_sequence.shape))\n",
        "            inputs = np.concatenate((inputs, [corrM_sequence]), axis=0)\n",
        "    # --------------------- Split data into train/test portions and combining all data from different files into a single array --------------------------------\n",
        "    test_portion = int(0.05*len(inputs))\n",
        "    print(\"Length input \"+ str(len(inputs))+ \" and test portion \"+ str(test_portion))\n",
        "    train_x, train_y = inputs[:-test_portion], labels[:-test_portion]\n",
        "    test_x, test_y = inputs[-test_portion:], labels[-test_portion:]\n",
        "    return train_x, train_y, test_x, test_y\n",
        "#-===============================================================================================\n",
        "train_x, train_y, test_x, test_y = load_fmri()\n"
      ],
      "execution_count": 68,
      "outputs": [
        {
          "output_type": "stream",
          "text": [
            "/usr/local/lib/python3.7/dist-packages/ipykernel_launcher.py:18: TqdmDeprecationWarning: This function will be removed in tqdm==5.0.0\n",
            "Please use `tqdm.notebook.tqdm` instead of `tqdm.tqdm_notebook`\n"
          ],
          "name": "stderr"
        },
        {
          "output_type": "display_data",
          "data": {
            "application/vnd.jupyter.widget-view+json": {
              "model_id": "438e98a066404cbdb9f708a6f4a11ad6",
              "version_minor": 0,
              "version_major": 2
            },
            "text/plain": [
              "HBox(children=(FloatProgress(value=0.0, max=246.0), HTML(value='')))"
            ]
          },
          "metadata": {
            "tags": []
          }
        },
        {
          "output_type": "stream",
          "text": [
            "\n",
            "Length input 247 and test portion 12\n"
          ],
          "name": "stdout"
        }
      ]
    },
    {
      "cell_type": "code",
      "metadata": {
        "id": "C7XFER2iTwxy",
        "colab": {
          "base_uri": "https://localhost:8080/"
        },
        "outputId": "a1006c33-3e48-4faf-a940-6dc614e93f77"
      },
      "source": [
        "print(train_x.shape)\n",
        "print(train_y.shape)\n",
        "# train_y"
      ],
      "execution_count": 69,
      "outputs": [
        {
          "output_type": "stream",
          "text": [
            "(235, 23, 8836)\n",
            "(235, 1)\n"
          ],
          "name": "stdout"
        }
      ]
    },
    {
      "cell_type": "code",
      "metadata": {
        "id": "JWUsDsJ9Twxz"
      },
      "source": [
        "import torch\n",
        "from torch.utils.data import DataLoader\n",
        "from torch.utils.data import Dataset, random_split\n",
        "from torch.utils.data.sampler import SubsetRandomSampler\n",
        "batch_size = 20\n",
        "\n",
        "train_dataset = TensorDataset(torch.from_numpy(train_x), torch.from_numpy(train_y))\n",
        "test_dataset = TensorDataset(torch.from_numpy(test_x), torch.from_numpy(test_y))\n",
        "dataset_size = len(train_dataset)\n",
        "val_size = int(0.1 * dataset_size)\n",
        "train_size = dataset_size - val_size\n",
        "train_data, val_data = random_split(train_dataset, [train_size,val_size])\n",
        "\n",
        "train_loader = DataLoader(train_data, shuffle=True, batch_size=batch_size,drop_last=True)\n",
        "val_loader = DataLoader(val_data, shuffle=True, batch_size=batch_size,drop_last=True)"
      ],
      "execution_count": 70,
      "outputs": []
    },
    {
      "cell_type": "code",
      "metadata": {
        "id": "Xi2MBUG1Twx0"
      },
      "source": [
        "# torch.cuda.is_available() checks and returns a Boolean True if a GPU is available, else it'll return False\n",
        "is_cuda = torch.cuda.is_available()\n",
        "\n",
        "# If we have a GPU available, we'll set our device to GPU. We'll use this device variable later in our code.\n",
        "if is_cuda:\n",
        "    device = torch.device(\"cuda\")\n",
        "else:\n",
        "    device = torch.device(\"cpu\")"
      ],
      "execution_count": 71,
      "outputs": []
    },
    {
      "cell_type": "code",
      "metadata": {
        "id": "Wc51UT_5Twx1"
      },
      "source": [
        "class GRUNet(nn.Module):\n",
        "    def __init__(self, input_dim, hidden_dim, output_dim, n_layers, drop_prob=0.2):\n",
        "        super(GRUNet, self).__init__()\n",
        "        self.hidden_dim = hidden_dim\n",
        "        self.n_layers = n_layers\n",
        "        \n",
        "        self.gru = nn.GRU(input_dim, hidden_dim, n_layers, batch_first=True, dropout=drop_prob)\n",
        "        self.fc = nn.Linear(hidden_dim, output_dim, bias=True)\n",
        "        self.relu = nn.ReLU()\n",
        "        self.sigmoid = nn.Sigmoid()\n",
        "\n",
        "    def forward(self, x, h):\n",
        "        out, h = self.gru(x, h)\n",
        "        out = self.fc(self.relu(out[:,-1]))\n",
        "        return self.sigmoid(out), h\n",
        "    \n",
        "    def init_hidden(self, batch_size):\n",
        "        weight = next(self.parameters()).data\n",
        "        hidden = weight.new(self.n_layers, batch_size, self.hidden_dim).zero_().to(device)\n",
        "        return hidden"
      ],
      "execution_count": 72,
      "outputs": []
    },
    {
      "cell_type": "code",
      "metadata": {
        "colab": {
          "base_uri": "https://localhost:8080/"
        },
        "id": "Oa4iThugYErK",
        "outputId": "1118745c-6614-4254-abcf-68261fde7801"
      },
      "source": [
        "# next(iter(train_loader))[0].shape\n",
        "print(train_x.shape)\n",
        "print(train_y.shape)\n",
        "print(next(iter(train_loader))[0].shape[2])\n",
        "# train_y"
      ],
      "execution_count": 73,
      "outputs": [
        {
          "output_type": "stream",
          "text": [
            "(235, 23, 8836)\n",
            "(235, 1)\n",
            "8836\n"
          ],
          "name": "stdout"
        }
      ]
    },
    {
      "cell_type": "code",
      "metadata": {
        "id": "t6s7LaNQy3PW"
      },
      "source": [
        "loss_list = []\n",
        "epoch_list = []\n",
        "acc_list = [] \n",
        "def train(train_loader, learn_rate, hidden_dim=128, EPOCHS=500, model_type=\"GRU\"):\n",
        "    \n",
        "    # Setting common hyperparameters\n",
        "    input_dim = next(iter(train_loader))[0].shape[2]\n",
        "    print(input_dim)\n",
        "    output_dim = 2\n",
        "    n_layers = 2\n",
        "    # Instantiating the models\n",
        "    if model_type == \"GRU\":\n",
        "        model = GRUNet(input_dim, hidden_dim, output_dim, n_layers)\n",
        "    else:\n",
        "        model = LSTMNet(input_dim, hidden_dim, output_dim, n_layers)\n",
        "    model.to(device)\n",
        "    \n",
        "    # Defining loss function and optimizer\n",
        "    criterion = nn.CrossEntropyLoss()\n",
        "    optimizer = torch.optim.Adam(model.parameters(), lr=learn_rate)\n",
        "    \n",
        "    model.train()\n",
        "    print(\"Starting Training of {} model\".format(model_type))\n",
        "    # Start training loop\n",
        "    for epoch in range(1,EPOCHS+1):\n",
        "        h = model.init_hidden(batch_size)\n",
        "        avg_loss = 0.\n",
        "        for x, label in train_loader:\n",
        "            if model_type == \"GRU\":\n",
        "                h = h.data\n",
        "            else:\n",
        "                h = tuple([e.data for e in h])\n",
        "            model.zero_grad()\n",
        "            \n",
        "            out, h = model(x.to(device).float(), h)\n",
        "            # print(out.squeeze().shape)\n",
        "            # print(label.squeeze().shape)\n",
        "            loss = criterion(out.squeeze(), label.squeeze().to(device).long())\n",
        "            loss.backward()\n",
        "            optimizer.step()\n",
        "            avg_loss += loss.item()\n",
        "        loss_list.append(avg_loss/len(train_loader))\n",
        "        epoch_list.append(epoch)\n",
        "        acc_list.append(cal_accuracy(model,val_loader))   \n",
        "        if epoch%10 == 0:\n",
        "            print(\"Epoch {}/{} Done: Total Loss: {:.4f}. Accuracy {}\".format(epoch, EPOCHS, avg_loss/len(train_loader), cal_accuracy(model,val_loader)))        \n",
        "    return model"
      ],
      "execution_count": 78,
      "outputs": []
    },
    {
      "cell_type": "code",
      "metadata": {
        "id": "YAOYCgbDKYQa"
      },
      "source": [
        "def cal_accuracy(model, dataloader):\n",
        "    # Calculate Accuracy         \n",
        "    correct = 0\n",
        "    total = 0\n",
        "    # Iterate through test dataset\n",
        "    for sequences, labels in dataloader:\n",
        "        # print(sequences.shape)\n",
        "        h = model.init_hidden(sequences.shape[0])\n",
        "        outputs,h = model(sequences.to(device).float(), h)\n",
        "        indices, pre = torch.max(outputs.data, 1)\n",
        "        predicted = torch.argmax(outputs.data, dim=1)\n",
        "        # print(\"indeces are \" + str(indices))\n",
        "        # print(\"Argmax are \" + str(torch.argmax(outputs.data, dim=1)))\n",
        "        # print(\"Labels \" + str(labels.squeeze()))\n",
        "        # Total number of labels\n",
        "        total += labels.size(0)\n",
        "          \n",
        "        # Total correct predictions\n",
        "        if torch.cuda.is_available():\n",
        "            correct += (predicted.cpu() == labels.squeeze().cpu()).sum()\n",
        "        else:\n",
        "            correct += (predicted == labels.squeeze()).sum()\n",
        "      \n",
        "    accuracy = 100 * correct / total\n",
        "    # Print Loss\n",
        "    # print('Accuracy: {}'.format(accuracy))\n",
        "    return accuracy \n",
        "\n",
        "# cal_accuracy(gru_model,val_loader) "
      ],
      "execution_count": 79,
      "outputs": []
    },
    {
      "cell_type": "code",
      "metadata": {
        "colab": {
          "base_uri": "https://localhost:8080/"
        },
        "id": "LICNBU5Py3Sa",
        "outputId": "bc784718-8394-458a-fc1a-67aef697220b"
      },
      "source": [
        "lr = 0.001\n",
        "gru_model = train(train_loader, lr, model_type=\"GRU\")"
      ],
      "execution_count": 80,
      "outputs": [
        {
          "output_type": "stream",
          "text": [
            "8836\n",
            "Starting Training of GRU model\n",
            "Epoch 10/500 Done: Total Loss: 0.3426. Accuracy 65.0\n",
            "Epoch 20/500 Done: Total Loss: 0.3478. Accuracy 75.0\n",
            "Epoch 30/500 Done: Total Loss: 0.3243. Accuracy 75.0\n",
            "Epoch 40/500 Done: Total Loss: 0.3150. Accuracy 65.0\n",
            "Epoch 50/500 Done: Total Loss: 0.3305. Accuracy 70.0\n",
            "Epoch 60/500 Done: Total Loss: 0.3319. Accuracy 75.0\n",
            "Epoch 70/500 Done: Total Loss: 0.3243. Accuracy 55.0\n",
            "Epoch 80/500 Done: Total Loss: 0.3209. Accuracy 65.0\n",
            "Epoch 90/500 Done: Total Loss: 0.3211. Accuracy 60.0\n",
            "Epoch 100/500 Done: Total Loss: 0.3139. Accuracy 75.0\n",
            "Epoch 110/500 Done: Total Loss: 0.3135. Accuracy 75.0\n",
            "Epoch 120/500 Done: Total Loss: 0.3135. Accuracy 75.0\n",
            "Epoch 130/500 Done: Total Loss: 0.3535. Accuracy 65.0\n",
            "Epoch 140/500 Done: Total Loss: 0.3314. Accuracy 75.0\n",
            "Epoch 150/500 Done: Total Loss: 0.3761. Accuracy 70.0\n",
            "Epoch 160/500 Done: Total Loss: 0.3356. Accuracy 70.0\n",
            "Epoch 170/500 Done: Total Loss: 0.3472. Accuracy 70.0\n",
            "Epoch 180/500 Done: Total Loss: 0.3313. Accuracy 60.0\n",
            "Epoch 190/500 Done: Total Loss: 0.3222. Accuracy 70.0\n",
            "Epoch 200/500 Done: Total Loss: 0.3242. Accuracy 80.0\n",
            "Epoch 210/500 Done: Total Loss: 0.3298. Accuracy 60.0\n",
            "Epoch 220/500 Done: Total Loss: 0.3266. Accuracy 55.0\n",
            "Epoch 230/500 Done: Total Loss: 0.3240. Accuracy 65.0\n",
            "Epoch 240/500 Done: Total Loss: 0.3177. Accuracy 75.0\n",
            "Epoch 250/500 Done: Total Loss: 0.3139. Accuracy 60.0\n",
            "Epoch 260/500 Done: Total Loss: 0.3316. Accuracy 65.0\n",
            "Epoch 270/500 Done: Total Loss: 0.3148. Accuracy 75.0\n",
            "Epoch 280/500 Done: Total Loss: 0.3178. Accuracy 65.0\n",
            "Epoch 290/500 Done: Total Loss: 0.3246. Accuracy 65.0\n",
            "Epoch 300/500 Done: Total Loss: 0.3195. Accuracy 70.0\n",
            "Epoch 310/500 Done: Total Loss: 0.3133. Accuracy 55.0\n",
            "Epoch 320/500 Done: Total Loss: 0.3199. Accuracy 70.0\n",
            "Epoch 330/500 Done: Total Loss: 0.3183. Accuracy 65.0\n",
            "Epoch 340/500 Done: Total Loss: 0.3352. Accuracy 60.0\n",
            "Epoch 350/500 Done: Total Loss: 0.3730. Accuracy 65.0\n",
            "Epoch 360/500 Done: Total Loss: 0.3708. Accuracy 55.0\n",
            "Epoch 370/500 Done: Total Loss: 0.3407. Accuracy 60.0\n",
            "Epoch 380/500 Done: Total Loss: 0.3200. Accuracy 70.0\n",
            "Epoch 390/500 Done: Total Loss: 0.3186. Accuracy 60.0\n",
            "Epoch 400/500 Done: Total Loss: 0.3226. Accuracy 80.0\n",
            "Epoch 410/500 Done: Total Loss: 0.3154. Accuracy 55.0\n",
            "Epoch 420/500 Done: Total Loss: 0.3133. Accuracy 70.0\n",
            "Epoch 430/500 Done: Total Loss: 0.3278. Accuracy 65.0\n",
            "Epoch 440/500 Done: Total Loss: 0.3231. Accuracy 55.0\n",
            "Epoch 450/500 Done: Total Loss: 0.3240. Accuracy 60.0\n",
            "Epoch 460/500 Done: Total Loss: 0.3491. Accuracy 70.0\n",
            "Epoch 470/500 Done: Total Loss: 0.3294. Accuracy 55.0\n",
            "Epoch 480/500 Done: Total Loss: 0.3214. Accuracy 65.0\n",
            "Epoch 490/500 Done: Total Loss: 0.3417. Accuracy 60.0\n",
            "Epoch 500/500 Done: Total Loss: 0.3134. Accuracy 75.0\n"
          ],
          "name": "stdout"
        }
      ]
    },
    {
      "cell_type": "code",
      "metadata": {
        "id": "jBitKxt8Twx3",
        "colab": {
          "base_uri": "https://localhost:8080/",
          "height": 434
        },
        "outputId": "f1525af6-7be8-430c-9d52-46c0c4a58627"
      },
      "source": [
        "%matplotlib inline\n",
        "\n",
        "import matplotlib.pyplot as plt\n",
        "import numpy as np\n",
        "fig, (ax1, ax2) = plt.subplots(1, 2, figsize=(12, 6))\n",
        "fig.suptitle('Plotting results')\n",
        "epoch = np.asarray(epoch_list)\n",
        "ACC = np.asarray(acc_list)\n",
        "ax1.plot(epoch, ACC)\n",
        "ax1.set_title('ACC w.r.t. epochs')\n",
        "\n",
        "loss = np.asarray(loss_list)\n",
        "ax2.plot(epoch, loss)\n",
        "ax2.set_title('Loss w.r.t. epochs')\n"
      ],
      "execution_count": 77,
      "outputs": [
        {
          "output_type": "execute_result",
          "data": {
            "text/plain": [
              "Text(0.5, 1.0, 'Loss w.r.t. epochs')"
            ]
          },
          "metadata": {
            "tags": []
          },
          "execution_count": 77
        },
        {
          "output_type": "display_data",
          "data": {
            "image/png": "[encoded data removed]",
            "text/plain": [
              "<Figure size 864x432 with 2 Axes>"
            ]
          },
          "metadata": {
            "tags": [],
            "needs_background": "light"
          }
        }
      ]
    },
    {
      "cell_type": "code",
      "metadata": {
        "id": "J3Tv-gSotH1N"
      },
      "source": [
        ""
      ],
      "execution_count": 77,
      "outputs": []
    },
    {
      "cell_type": "code",
      "metadata": {
        "colab": {
          "base_uri": "https://localhost:8080/",
          "height": 185,
          "referenced_widgets": [
            "c9b2828de82246bba96edaf852063a64",
            "c8e3558d0f0d4111b64f77770296c484",
            "9c7a384729af495798f644a9a7c35f67",
            "6b4a6e1f35ff40df8aa7a40ed51de3f4",
            "cf10b96d91d94357973bc76b647b9f8e",
            "f388bbf077544829aae72961349cf41d",
            "61d68c6fc4b543a58a4a55915c9b7257",
            "f69a1813367447a1a77649839450b7dc"
          ]
        },
        "id": "l3zvE1Dbrycy",
        "outputId": "40426550-f374-49be-8f19-8b8af1b5ee89"
      },
      "source": [
        "def load_test_fmri(data_dir=None,model=None):\n",
        "    if data_dir == None:\n",
        "        data_dir = os.path.join(\"Project2_data\",\"Test\")\n",
        "\n",
        "    window = 10\n",
        "    stride = 10\n",
        "    # inputs = []# np.zeros() \n",
        "    \n",
        "    inputs = np.zeros((1, 23, 8836))\n",
        "    labels = np.zeros((1,1),dtype=int)\n",
        "\n",
        "    \n",
        "    for file in tqdm_notebook(os.listdir(data_dir)): \n",
        "        # each file --> (corrM series, label)\n",
        "        df = pd.read_csv(os.path.join(data_dir,file)).T\n",
        "        corrM_sequence =  np.array([])\n",
        "        index = 0\n",
        "        while index <= len(df.columns)-window: #--- slice across columns\n",
        "              data=df.iloc[:, index:index+window].T # 10 datapoints at a time\n",
        "              corrM = data.corr().to_numpy().reshape((1,94*94)) #shape=(1,2)\n",
        "              if corrM_sequence.size == 0:\n",
        "                  corrM_sequence = np.copy(corrM)\n",
        "              else:\n",
        "                  corrM_sequence = np.concatenate((corrM_sequence, corrM), axis=0)\n",
        "              index += stride          \n",
        "        \n",
        "        file_label = int(file[11:].replace(\".csv\", \"\"))\n",
        "        labels = np.concatenate((labels, [[int(file_label)]]), axis=0)\n",
        "\n",
        "        if inputs.size == 0:\n",
        "            inputs = np.copy(corrM_sequence)\n",
        "        else:\n",
        "            inputs = np.concatenate((inputs, [corrM_sequence]), axis=0)\n",
        "    print(\"Length input \"+ str(len(inputs[0])))\n",
        "    return inputs, labels\n",
        "\n",
        "test_prediction, file_labels = load_test_fmri()\n",
        "print(test_prediction.shape)\n",
        "print(file_labels.shape)\n",
        "\n",
        "batch_size = 5\n",
        "test_fmri_dataset = TensorDataset(torch.from_numpy(test_prediction),torch.from_numpy(file_labels))\n",
        "dataset_size = len(test_fmri_dataset)\n",
        "print(dataset_size)\n",
        "test_fmri_loader = DataLoader(test_fmri_dataset, shuffle=False, batch_size=batch_size,drop_last=True)"
      ],
      "execution_count": 81,
      "outputs": [
        {
          "output_type": "stream",
          "text": [
            "/usr/local/lib/python3.7/dist-packages/ipykernel_launcher.py:13: TqdmDeprecationWarning: This function will be removed in tqdm==5.0.0\n",
            "Please use `tqdm.notebook.tqdm` instead of `tqdm.tqdm_notebook`\n",
            "  del sys.path[0]\n"
          ],
          "name": "stderr"
        },
        {
          "output_type": "display_data",
          "data": {
            "application/vnd.jupyter.widget-view+json": {
              "model_id": "c9b2828de82246bba96edaf852063a64",
              "version_minor": 0,
              "version_major": 2
            },
            "text/plain": [
              "HBox(children=(FloatProgress(value=0.0, max=20.0), HTML(value='')))"
            ]
          },
          "metadata": {
            "tags": []
          }
        },
        {
          "output_type": "stream",
          "text": [
            "\n",
            "Length input 23\n",
            "(21, 23, 8836)\n",
            "(21, 1)\n",
            "21\n"
          ],
          "name": "stdout"
        }
      ]
    },
    {
      "cell_type": "code",
      "metadata": {
        "colab": {
          "base_uri": "https://localhost:8080/"
        },
        "id": "dv7CV8xEi3LA",
        "outputId": "43f62370-32f2-4c7a-b32c-da509e4b1044"
      },
      "source": [
        "def predict_fmri_test(model, dataloader):\n",
        "    # Calculate Accuracy         \n",
        "    correct = 0\n",
        "    total = 0\n",
        "    predicted = None\n",
        "    labels = None\n",
        "    # Iterate through test dataset\n",
        "    for sequences, file_label in dataloader:\n",
        "        h = model.init_hidden(sequences.shape[0])\n",
        "        outputs,h = model(sequences.to(device).float(), h)\n",
        "        indices, pre = torch.max(outputs.data, 1)\n",
        "        if predicted == None:\n",
        "            predicted = torch.argmax(outputs.data, dim=1)\n",
        "            labels = file_labels.squeeze()\n",
        "        else:\n",
        "            predicted = torch.cat((predicted,torch.argmax(outputs.data, dim=1)), 0)\n",
        "    print(\"P\"+ str(predicted))\n",
        "    print(\"Labels \"+str(labels))\n",
        "    return predicted, labels\n",
        "\n",
        "pred = predict_fmri_test(gru_model,test_fmri_loader)"
      ],
      "execution_count": 82,
      "outputs": [
        {
          "output_type": "stream",
          "text": [
            "Ptensor([0, 0, 1, 1, 1, 1, 1, 1, 0, 1, 1, 0, 1, 0, 1, 1, 1, 0, 1, 1],\n",
            "       device='cuda:0')\n",
            "Labels [ 0  5 20  7 12  6  1  3 11  4 10 19  9 16 14 13  8 17 18 15  2]\n"
          ],
          "name": "stdout"
        }
      ]
    },
    {
      "cell_type": "code",
      "metadata": {
        "id": "xb2SyY92YY-G"
      },
      "source": [
        ""
      ],
      "execution_count": null,
      "outputs": []
    },
    {
      "cell_type": "code",
      "metadata": {
        "id": "4wpnApshLmhY"
      },
      "source": [
        ""
      ],
      "execution_count": null,
      "outputs": []
    },
    {
      "cell_type": "code",
      "metadata": {
        "id": "_mFMLsqVfvov"
      },
      "source": [
        ""
      ],
      "execution_count": null,
      "outputs": []
    },
    {
      "cell_type": "code",
      "metadata": {
        "id": "6_hCcjwrfvmW"
      },
      "source": [
        ""
      ],
      "execution_count": null,
      "outputs": []
    },
    {
      "cell_type": "code",
      "metadata": {
        "id": "0vjvmm-3qSoS"
      },
      "source": [
        ""
      ],
      "execution_count": null,
      "outputs": []
    }
  ]
}