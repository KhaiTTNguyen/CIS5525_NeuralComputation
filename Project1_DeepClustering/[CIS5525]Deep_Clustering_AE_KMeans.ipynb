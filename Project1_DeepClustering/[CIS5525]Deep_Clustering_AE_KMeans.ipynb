{
  "nbformat": 4,
  "nbformat_minor": 0,
  "metadata": {
    "colab": {
      "name": "[CIS5525]Deep Clustering-AE-KMeans",
      "provenance": [],
      "collapsed_sections": []
    },
    "kernelspec": {
      "display_name": "Python 3",
      "name": "python3"
    },
    "language_info": {
      "name": "python"
    }
  },
  "cells": [
    {
      "cell_type": "code",
      "metadata": {
        "id": "aj7tXc14RWmH"
      },
      "source": [
        "import os\n",
        "from tqdm import *\n",
        "import torch\n",
        "from torch import nn\n",
        "from torch.autograd import Variable\n",
        "from torch.utils.data import DataLoader\n",
        "from torch.nn import Parameter\n",
        "from torchvision import transforms\n",
        "from torchvision.datasets import MNIST\n",
        "from torchvision.utils import save_image\n",
        "from sklearn.cluster import KMeans\n",
        "import numpy as np\n",
        "from tqdm import *\n",
        "from sklearn.manifold import TSNE\n",
        "from matplotlib import pyplot as plt\n",
        "import pandas as pd\n",
        "\n",
        "class AutoEncoder(nn.Module):\n",
        "    def __init__(self):\n",
        "        super(AutoEncoder, self).__init__()\n",
        "        self.encoder = nn.Sequential(\n",
        "            nn.Linear(28 * 28, 512),\n",
        "            nn.ReLU(),\n",
        "            nn.Linear(512, 256),\n",
        "            nn.ReLU(),\n",
        "            nn.Linear(256, 128),\n",
        "            nn.ReLU(),\n",
        "            nn.Linear(128, 64),\n",
        "            nn.ReLU(),\n",
        "            nn.Linear(64, 10))\n",
        "        self.decoder = nn.Sequential(\n",
        "            nn.Linear(10, 64),\n",
        "            nn.ReLU(),\n",
        "            nn.Linear(64,128),\n",
        "            nn.ReLU(),\n",
        "            nn.Linear(128, 256),\n",
        "            nn.ReLU(),\n",
        "            nn.Linear(256, 512),\n",
        "            nn.ReLU(),\n",
        "            nn.Linear(512, 28 * 28))\n",
        "        self.model = nn.Sequential(self.encoder, self.decoder)\n",
        "    def encode(self, x):\n",
        "        return self.encoder(x)\n",
        "\n",
        "    def forward(self, x):\n",
        "        x = self.model(x)\n",
        "        return x"
      ],
      "execution_count": 7,
      "outputs": []
    },
    {
      "cell_type": "code",
      "metadata": {
        "id": "Gvyzm5_jRbqz"
      },
      "source": [
        "class ClusteringLayer(nn.Module): # inherit nn.Module for computing gradient\n",
        "    def __init__(self, n_clusters=10, latent_dim=10, cluster_centers=None, alpha=1.0):\n",
        "        super(ClusteringLayer, self).__init__()\n",
        "        self.n_clusters = n_clusters\n",
        "        self.alpha = alpha\n",
        "        self.latent_dim = latent_dim\n",
        "        if cluster_centers is None:\n",
        "            initial_cluster_centers = torch.zeros(\n",
        "            self.n_clusters,\n",
        "            self.latent_dim,\n",
        "            dtype=torch.float\n",
        "            )\n",
        "            nn.init.xavier_uniform_(initial_cluster_centers)\n",
        "        else:\n",
        "            initial_cluster_centers = cluster_centers\n",
        "        self.cluster_centers = Parameter(initial_cluster_centers)\n",
        "    def forward(self, x):\n",
        "        norm_squared = torch.sum((x.unsqueeze(1) - self.cluster_centers)**2, 2)\n",
        "        numerator = 1.0 / (1.0 + (norm_squared / self.alpha))\n",
        "        power = float(self.alpha + 1) / 2\n",
        "        numerator = numerator**power\n",
        "        t_dist = (numerator.t() / torch.sum(numerator, 1)).t() #soft assignment using t-distribution\n",
        "        return t_dist"
      ],
      "execution_count": 8,
      "outputs": []
    },
    {
      "cell_type": "code",
      "metadata": {
        "id": "esNzmXAYRgxx"
      },
      "source": [
        "class AE_KMeans(nn.Module):           # inherit nn.Module for computing gradient\n",
        "    def __init__(self, n_clusters=10, autoencoder=None, latent_dim=10, cluster_centers=None, alpha=1.0):\n",
        "        super(AE_KMeans, self).__init__()\n",
        "        self.n_clusters = n_clusters\n",
        "        self.alpha = alpha\n",
        "        self.latent_dim = latent_dim\n",
        "        self.cluster_centers = cluster_centers\n",
        "        self.autoencoder = autoencoder\n",
        "        self.clusteringlayer = ClusteringLayer(self.n_clusters, self.latent_dim, self.cluster_centers, self.alpha)\n",
        "\n",
        "    def target_distribution(self, q_):\n",
        "        weight = (q_ ** 2) / torch.sum(q_, 0)\n",
        "        return (weight.t() / torch.sum(weight, 1)).t()\n",
        "\n",
        "    def forward(self, x):\n",
        "        x = self.autoencoder.encode(x) \n",
        "        return self.clusteringlayer(x)\n",
        "\n",
        "    def visualize(self, epoch,x):\n",
        "        fig = plt.figure()\n",
        "        ax = plt.subplot(111)\n",
        "        x = self.autoencoder.encode(x).detach() \n",
        "        x = x.numpy()[:2000]                      # fixing\n",
        "        x_embedded = TSNE(n_components=2).fit_transform(x)\n",
        "        plt.scatter(x_embedded[:,0], x_embedded[:,1])\n",
        "        # dirWriteName = os.path.join(\".\", \"output\")\n",
        "        # os.makedirs(os.path.dirname(dirWriteName), exist_ok=True) # create 'output' folder if not existed yet\n",
        "        fig.savefig('mnist_{}.png'.format(epoch))\n",
        "        plt.close(fig)"
      ],
      "execution_count": 9,
      "outputs": []
    },
    {
      "cell_type": "code",
      "metadata": {
        "id": "iZG8FxO4YD6B"
      },
      "source": [
        "def train_AE_initial(**kwargs):\n",
        "    data = kwargs['data']\n",
        "    model = kwargs['model']\n",
        "    num_epochs = kwargs['num_epochs']\n",
        "    start_epoch = 0\n",
        "    parameters = list(autoencoder.parameters())\n",
        "    optimizer = torch.optim.Adam(parameters, lr=1e-3, weight_decay=1e-5)\n",
        "    train_loader = DataLoader(dataset=data,\n",
        "                    batch_size=128, \n",
        "                    shuffle=True)\n",
        "    for epoch in range(start_epoch, num_epochs):\n",
        "        for data in train_loader:\n",
        "            img  = data.float()\n",
        "            # ===================forward=====================\n",
        "            output = model(img)\n",
        "            output = output.squeeze(1)\n",
        "            output = output.view(output.size(0), 28*28)\n",
        "            loss = nn.MSELoss()(output, img)\n",
        "            # ===================backward====================\n",
        "            optimizer.zero_grad()\n",
        "            loss.backward()\n",
        "            optimizer.step()\n",
        "        # ===================log========================\n",
        "        print('epoch [{}/{}], MSE_loss:{:.4f}'.format(epoch + 1, num_epochs, loss.item()))"
      ],
      "execution_count": 10,
      "outputs": []
    },
    {
      "cell_type": "code",
      "metadata": {
        "id": "bJW4y9iyRkyy"
      },
      "source": [
        "def train(**kwargs):\n",
        "    data = kwargs['data']\n",
        "    labels = kwargs['labels']\n",
        "    model = kwargs['model']\n",
        "    num_epochs = kwargs['num_epochs']\n",
        "\n",
        "    latent_features = []\n",
        "    train_loader = DataLoader(dataset=data,\n",
        "                              batch_size=128, \n",
        "                              shuffle=False)\n",
        "\n",
        "    # ----------------------- train AE -----------------------\n",
        "    # pretrain(data=x, model=autoencoder, num_epochs=epochs_pre, savepath=ae_save_path, checkpoint=checkpoint)\n",
        "\n",
        "    for i, batch in enumerate(train_loader):\n",
        "        img = batch.float()\n",
        "        latent_features.append(model.autoencoder.encode(img).detach())   # fixing\n",
        "    latent_features = torch.cat(latent_features)\n",
        "    # ------------------------- K-means to init cluster centers ------------------------- \n",
        "    kmeans = KMeans(n_clusters=10, random_state=0).fit(latent_features)\n",
        "    cluster_centers = kmeans.cluster_centers_\n",
        "    cluster_centers = torch.tensor(cluster_centers, dtype=torch.float)\n",
        "    model.clusteringlayer.cluster_centers = torch.nn.Parameter(cluster_centers)\n",
        "    # ------------------------- minimize loss w.r.t. clustter centers & weights of AE encoder -------------------------\n",
        "    y_pred = kmeans.predict(latent_features)\n",
        "    accuracy = acc(y.numpy(), y_pred)\n",
        "    print('Initial Accuracy: {}'.format(accuracy))\n",
        "\n",
        "    loss_function = nn.KLDivLoss(size_average=False)\n",
        "    optimizer = torch.optim.SGD(params=model.parameters(), lr=0.1, momentum=0.9)\n",
        "    \n",
        "    print('Training')\n",
        "    row = []\n",
        "    for epoch in range(0, num_epochs):\n",
        "        batch = data\n",
        "        img = batch.float()\n",
        "        output = model(img)\n",
        "        target = model.target_distribution(output).detach()\n",
        "        out = output.argmax(1)\n",
        "        if epoch % 20 == 0:\n",
        "            print('plotting')\n",
        "            ae_kmeans.visualize(epoch, img)\n",
        "        loss = loss_function(output.log(), target) / output.shape[0]\n",
        "        optimizer.zero_grad()\n",
        "        loss.backward()\n",
        "        optimizer.step()\n",
        "        accuracy = acc(y.numpy(), out.numpy())\n",
        "        row.append([epoch, accuracy, loss])\n",
        "\n",
        "        print('Epochs: [{}/{}] Accuracy:{}, Loss:{}'.format(epoch, num_epochs, accuracy, loss))\n",
        "    visualize(row)\n",
        "    df = pd.DataFrame(row, columns=['epochs', 'accuracy'])\n",
        "    df.to_csv('log.csv')"
      ],
      "execution_count": 11,
      "outputs": []
    },
    {
      "cell_type": "code",
      "metadata": {
        "id": "K4SsR6cSRP8y"
      },
      "source": [
        "def visualize(row):\n",
        "      %matplotlib inline\n",
        "      import matplotlib.pyplot as plt\n",
        "      import numpy as np\n",
        "\n",
        "      fig, (ax1, ax2) = plt.subplots(1, 2, figsize=(12, 6))\n",
        "      fig.suptitle('Plotting results')\n",
        "      epoch = np.asarray(row)[:,0]\n",
        "      ACC = np.asarray(row)[:,1]\n",
        "      ax1.plot(epoch, ACC)\n",
        "      ax1.set_title('ACC w.r.t. epochs')\n",
        "\n",
        "      epoch = np.asarray(row)[:,0]\n",
        "      loss = np.asarray(row)[:,2]\n",
        "      ax2.plot(epoch, loss)\n",
        "      ax2.set_title('Loss w.r.t. epochs')"
      ],
      "execution_count": 12,
      "outputs": []
    },
    {
      "cell_type": "code",
      "metadata": {
        "id": "Wc5mGlihRsdK"
      },
      "source": [
        "def acc(y_true, y_pred):\n",
        "    \"\"\"\n",
        "    Calculate clustering accuracy. Require scikit-learn installed\n",
        "    # Arguments\n",
        "        y: true labels, numpy.array with shape `(n_samples,)`\n",
        "        y_pred: predicted labels, numpy.array with shape `(n_samples,)`\n",
        "    # Return\n",
        "        accuracy, in [0,1]\n",
        "    \"\"\"\n",
        "    y_true = y_true.astype(np.int64)\n",
        "    assert y_pred.size == y_true.size\n",
        "    D = max(y_pred.max(), y_true.max()) + 1\n",
        "    w = np.zeros((D, D), dtype=np.int64)\n",
        "    for i in range(y_pred.size):\n",
        "        w[y_pred[i], y_true[i]] += 1\n",
        "    from sklearn.utils.linear_assignment_ import linear_assignment\n",
        "    ind = linear_assignment(w.max() - w)\n",
        "    return sum([w[i, j] for i, j in ind]) * 1.0 / y_pred.size"
      ],
      "execution_count": 13,
      "outputs": []
    },
    {
      "cell_type": "code",
      "metadata": {
        "colab": {
          "base_uri": "https://localhost:8080/"
        },
        "id": "w8cNdiZ9SO50",
        "outputId": "23c64f20-24af-49e6-aeea-a35553a6f073"
      },
      "source": [
        "def load_mnist():\n",
        "    # the data, shuffled and split between train and test sets\n",
        "    train = MNIST(root='./data/',\n",
        "                train=True, \n",
        "                transform=transforms.ToTensor(),\n",
        "                download=True)\n",
        "\n",
        "    test = MNIST(root='./data/',\n",
        "                train=False, \n",
        "                transform=transforms.ToTensor())\n",
        "    x_train, y_train = train.train_data, train.train_labels\n",
        "    x_test, y_test = test.test_data, test.test_labels\n",
        "    x = torch.cat((x_train, x_test), 0)\n",
        "    y = torch.cat((y_train, y_test), 0)\n",
        "    x = x.reshape((x.shape[0], -1))\n",
        "    x = np.divide(x, 255.)\n",
        "    print('MNIST samples', x.shape)\n",
        "    return x, y\n",
        "load_mnist()"
      ],
      "execution_count": 14,
      "outputs": [
        {
          "output_type": "stream",
          "text": [
            "/usr/local/lib/python3.7/dist-packages/torchvision/datasets/mnist.py:58: UserWarning: train_data has been renamed data\n",
            "  warnings.warn(\"train_data has been renamed data\")\n",
            "/usr/local/lib/python3.7/dist-packages/torchvision/datasets/mnist.py:48: UserWarning: train_labels has been renamed targets\n",
            "  warnings.warn(\"train_labels has been renamed targets\")\n",
            "/usr/local/lib/python3.7/dist-packages/torchvision/datasets/mnist.py:63: UserWarning: test_data has been renamed data\n",
            "  warnings.warn(\"test_data has been renamed data\")\n",
            "/usr/local/lib/python3.7/dist-packages/torchvision/datasets/mnist.py:53: UserWarning: test_labels has been renamed targets\n",
            "  warnings.warn(\"test_labels has been renamed targets\")\n"
          ],
          "name": "stderr"
        },
        {
          "output_type": "stream",
          "text": [
            "MNIST samples torch.Size([70000, 784])\n"
          ],
          "name": "stdout"
        },
        {
          "output_type": "execute_result",
          "data": {
            "text/plain": [
              "(tensor([[0., 0., 0.,  ..., 0., 0., 0.],\n",
              "         [0., 0., 0.,  ..., 0., 0., 0.],\n",
              "         [0., 0., 0.,  ..., 0., 0., 0.],\n",
              "         ...,\n",
              "         [0., 0., 0.,  ..., 0., 0., 0.],\n",
              "         [0., 0., 0.,  ..., 0., 0., 0.],\n",
              "         [0., 0., 0.,  ..., 0., 0., 0.]], dtype=torch.float64),\n",
              " tensor([5, 0, 4,  ..., 4, 5, 6]))"
            ]
          },
          "metadata": {
            "tags": []
          },
          "execution_count": 14
        }
      ]
    },
    {
      "cell_type": "code",
      "metadata": {
        "colab": {
          "base_uri": "https://localhost:8080/",
          "height": 1000
        },
        "id": "EYIregsuSUqG",
        "outputId": "3e22812e-dd16-4872-fd52-939c78a4bf74"
      },
      "source": [
        "if __name__ == '__main__':\n",
        "    batch_size=256\n",
        "    epochs_inital=20\n",
        "    epochs=200\n",
        "    x, y = load_mnist()\n",
        "    autoencoder = AutoEncoder()\t\n",
        "    train_AE_initial(data=x, model=autoencoder, num_epochs=epochs_inital)\n",
        "    \n",
        "    ae_kmeans = AE_KMeans(n_clusters=10, autoencoder=autoencoder, latent_dim=10, cluster_centers=None, alpha=1.0)\n",
        "    train(data=x, labels=y, model=ae_kmeans, num_epochs=epochs)"
      ],
      "execution_count": 15,
      "outputs": [
        {
          "output_type": "stream",
          "text": [
            "/usr/local/lib/python3.7/dist-packages/torchvision/datasets/mnist.py:58: UserWarning: train_data has been renamed data\n",
            "  warnings.warn(\"train_data has been renamed data\")\n",
            "/usr/local/lib/python3.7/dist-packages/torchvision/datasets/mnist.py:48: UserWarning: train_labels has been renamed targets\n",
            "  warnings.warn(\"train_labels has been renamed targets\")\n",
            "/usr/local/lib/python3.7/dist-packages/torchvision/datasets/mnist.py:63: UserWarning: test_data has been renamed data\n",
            "  warnings.warn(\"test_data has been renamed data\")\n",
            "/usr/local/lib/python3.7/dist-packages/torchvision/datasets/mnist.py:53: UserWarning: test_labels has been renamed targets\n",
            "  warnings.warn(\"test_labels has been renamed targets\")\n"
          ],
          "name": "stderr"
        },
        {
          "output_type": "stream",
          "text": [
            "MNIST samples torch.Size([70000, 784])\n",
            "epoch [1/20], MSE_loss:0.0442\n",
            "epoch [2/20], MSE_loss:0.0371\n",
            "epoch [3/20], MSE_loss:0.0314\n",
            "epoch [4/20], MSE_loss:0.0302\n",
            "epoch [5/20], MSE_loss:0.0306\n",
            "epoch [6/20], MSE_loss:0.0334\n",
            "epoch [7/20], MSE_loss:0.0297\n",
            "epoch [8/20], MSE_loss:0.0273\n",
            "epoch [9/20], MSE_loss:0.0258\n",
            "epoch [10/20], MSE_loss:0.0262\n",
            "epoch [11/20], MSE_loss:0.0229\n",
            "epoch [12/20], MSE_loss:0.0241\n",
            "epoch [13/20], MSE_loss:0.0251\n",
            "epoch [14/20], MSE_loss:0.0250\n",
            "epoch [15/20], MSE_loss:0.0270\n",
            "epoch [16/20], MSE_loss:0.0241\n",
            "epoch [17/20], MSE_loss:0.0230\n",
            "epoch [18/20], MSE_loss:0.0276\n",
            "epoch [19/20], MSE_loss:0.0246\n",
            "epoch [20/20], MSE_loss:0.0242\n"
          ],
          "name": "stdout"
        },
        {
          "output_type": "stream",
          "text": [
            "/usr/local/lib/python3.7/dist-packages/sklearn/utils/linear_assignment_.py:22: FutureWarning: The linear_assignment_ module is deprecated in 0.21 and will be removed from 0.23. Use scipy.optimize.linear_sum_assignment instead.\n",
            "  FutureWarning)\n",
            "/usr/local/lib/python3.7/dist-packages/sklearn/utils/linear_assignment_.py:128: FutureWarning: The linear_assignment function is deprecated in 0.21 and will be removed from 0.23. Use scipy.optimize.linear_sum_assignment instead.\n",
            "  FutureWarning)\n",
            "/usr/local/lib/python3.7/dist-packages/torch/nn/_reduction.py:42: UserWarning: size_average and reduce args will be deprecated, please use reduction='sum' instead.\n",
            "  warnings.warn(warning.format(ret))\n"
          ],
          "name": "stderr"
        },
        {
          "output_type": "stream",
          "text": [
            "Initial Accuracy: 0.6631285714285714\n",
            "Training\n",
            "plotting\n"
          ],
          "name": "stdout"
        },
        {
          "output_type": "stream",
          "text": [
            "/usr/local/lib/python3.7/dist-packages/sklearn/utils/linear_assignment_.py:128: FutureWarning: The linear_assignment function is deprecated in 0.21 and will be removed from 0.23. Use scipy.optimize.linear_sum_assignment instead.\n",
            "  FutureWarning)\n"
          ],
          "name": "stderr"
        },
        {
          "output_type": "stream",
          "text": [
            "Epochs: [0/200] Accuracy:0.6631285714285714, Loss:0.23937483131885529\n",
            "Epochs: [1/200] Accuracy:0.6635428571428571, Loss:0.2401958405971527\n",
            "Epochs: [2/200] Accuracy:0.6635, Loss:0.24116072058677673\n",
            "Epochs: [3/200] Accuracy:0.6684428571428571, Loss:0.24685031175613403\n",
            "Epochs: [4/200] Accuracy:0.6699857142857143, Loss:0.25153952836990356\n",
            "Epochs: [5/200] Accuracy:0.6666, Loss:0.25370946526527405\n",
            "Epochs: [6/200] Accuracy:0.6642285714285714, Loss:0.25410059094429016\n",
            "Epochs: [7/200] Accuracy:0.6670714285714285, Loss:0.2550358474254608\n",
            "Epochs: [8/200] Accuracy:0.6662142857142858, Loss:0.25486519932746887\n",
            "Epochs: [9/200] Accuracy:0.6610857142857143, Loss:0.2534482181072235\n",
            "Epochs: [10/200] Accuracy:0.6607428571428572, Loss:0.2517818510532379\n",
            "Epochs: [11/200] Accuracy:0.6645285714285715, Loss:0.2511642873287201\n",
            "Epochs: [12/200] Accuracy:0.6632571428571429, Loss:0.24920125305652618\n",
            "Epochs: [13/200] Accuracy:0.6605857142857143, Loss:0.24637649953365326\n",
            "Epochs: [14/200] Accuracy:0.6634428571428571, Loss:0.24445979297161102\n",
            "Epochs: [15/200] Accuracy:0.6633142857142857, Loss:0.24241098761558533\n",
            "Epochs: [16/200] Accuracy:0.6605428571428571, Loss:0.24003459513187408\n",
            "Epochs: [17/200] Accuracy:0.6620142857142857, Loss:0.23868629336357117\n",
            "Epochs: [18/200] Accuracy:0.6635285714285715, Loss:0.2365158200263977\n",
            "Epochs: [19/200] Accuracy:0.6621571428571429, Loss:0.2342386394739151\n",
            "plotting\n"
          ],
          "name": "stdout"
        },
        {
          "output_type": "stream",
          "text": [
            "/usr/local/lib/python3.7/dist-packages/sklearn/utils/linear_assignment_.py:128: FutureWarning: The linear_assignment function is deprecated in 0.21 and will be removed from 0.23. Use scipy.optimize.linear_sum_assignment instead.\n",
            "  FutureWarning)\n"
          ],
          "name": "stderr"
        },
        {
          "output_type": "stream",
          "text": [
            "Epochs: [20/200] Accuracy:0.664, Loss:0.2336938977241516\n",
            "Epochs: [21/200] Accuracy:0.6644714285714286, Loss:0.2312878668308258\n",
            "Epochs: [22/200] Accuracy:0.6647285714285714, Loss:0.22821196913719177\n",
            "Epochs: [23/200] Accuracy:0.6671428571428571, Loss:0.22737589478492737\n",
            "Epochs: [24/200] Accuracy:0.6670285714285714, Loss:0.22419029474258423\n",
            "Epochs: [25/200] Accuracy:0.6697142857142857, Loss:0.22138236463069916\n",
            "Epochs: [26/200] Accuracy:0.6718857142857143, Loss:0.21905048191547394\n",
            "Epochs: [27/200] Accuracy:0.6717142857142857, Loss:0.2161504030227661\n",
            "Epochs: [28/200] Accuracy:0.6739714285714286, Loss:0.21551604568958282\n",
            "Epochs: [29/200] Accuracy:0.6747428571428571, Loss:0.21223658323287964\n",
            "Epochs: [30/200] Accuracy:0.6769142857142857, Loss:0.21145689487457275\n",
            "Epochs: [31/200] Accuracy:0.6765857142857142, Loss:0.20859484374523163\n",
            "Epochs: [32/200] Accuracy:0.6789285714285714, Loss:0.20761635899543762\n",
            "Epochs: [33/200] Accuracy:0.6790571428571428, Loss:0.20393326878547668\n",
            "Epochs: [34/200] Accuracy:0.6818142857142857, Loss:0.20385587215423584\n",
            "Epochs: [35/200] Accuracy:0.6795857142857142, Loss:0.19954900443553925\n",
            "Epochs: [36/200] Accuracy:0.6856285714285715, Loss:0.20576082170009613\n",
            "Epochs: [37/200] Accuracy:0.6731, Loss:0.2072536200284958\n",
            "Epochs: [38/200] Accuracy:0.6850571428571428, Loss:0.24208173155784607\n",
            "Epochs: [39/200] Accuracy:0.6568285714285714, Loss:0.234602153301239\n",
            "plotting\n"
          ],
          "name": "stdout"
        },
        {
          "output_type": "stream",
          "text": [
            "/usr/local/lib/python3.7/dist-packages/sklearn/utils/linear_assignment_.py:128: FutureWarning: The linear_assignment function is deprecated in 0.21 and will be removed from 0.23. Use scipy.optimize.linear_sum_assignment instead.\n",
            "  FutureWarning)\n"
          ],
          "name": "stderr"
        },
        {
          "output_type": "stream",
          "text": [
            "Epochs: [40/200] Accuracy:0.6880428571428572, Loss:0.21070638298988342\n",
            "Epochs: [41/200] Accuracy:0.6862, Loss:0.19219546020030975\n",
            "Epochs: [42/200] Accuracy:0.6820857142857143, Loss:0.19433456659317017\n",
            "Epochs: [43/200] Accuracy:0.6890857142857143, Loss:0.22300563752651215\n",
            "Epochs: [44/200] Accuracy:0.6753142857142858, Loss:0.21196289360523224\n",
            "Epochs: [45/200] Accuracy:0.6910857142857143, Loss:0.19740845263004303\n",
            "Epochs: [46/200] Accuracy:0.6904, Loss:0.1843082457780838\n",
            "Epochs: [47/200] Accuracy:0.6868142857142857, Loss:0.18988816440105438\n",
            "Epochs: [48/200] Accuracy:0.6929142857142857, Loss:0.20564395189285278\n",
            "Epochs: [49/200] Accuracy:0.6904285714285714, Loss:0.1868254691362381\n",
            "Epochs: [50/200] Accuracy:0.6952, Loss:0.17911182343959808\n",
            "Epochs: [51/200] Accuracy:0.6964285714285714, Loss:0.18348905444145203\n",
            "Epochs: [52/200] Accuracy:0.6939857142857143, Loss:0.18586604297161102\n",
            "Epochs: [53/200] Accuracy:0.6985, Loss:0.19005703926086426\n",
            "Epochs: [54/200] Accuracy:0.6976714285714286, Loss:0.17560072243213654\n",
            "Epochs: [55/200] Accuracy:0.6991428571428572, Loss:0.17307743430137634\n",
            "Epochs: [56/200] Accuracy:0.7001285714285714, Loss:0.17909400165081024\n",
            "Epochs: [57/200] Accuracy:0.6998142857142857, Loss:0.1787421703338623\n",
            "Epochs: [58/200] Accuracy:0.7007571428571429, Loss:0.17994631826877594\n",
            "Epochs: [59/200] Accuracy:0.7022714285714285, Loss:0.1699375957250595\n",
            "plotting\n"
          ],
          "name": "stdout"
        },
        {
          "output_type": "stream",
          "text": [
            "/usr/local/lib/python3.7/dist-packages/sklearn/utils/linear_assignment_.py:128: FutureWarning: The linear_assignment function is deprecated in 0.21 and will be removed from 0.23. Use scipy.optimize.linear_sum_assignment instead.\n",
            "  FutureWarning)\n"
          ],
          "name": "stderr"
        },
        {
          "output_type": "stream",
          "text": [
            "Epochs: [60/200] Accuracy:0.7026857142857142, Loss:0.16738250851631165\n",
            "Epochs: [61/200] Accuracy:0.7024714285714285, Loss:0.16872790455818176\n",
            "Epochs: [62/200] Accuracy:0.7035857142857143, Loss:0.16913986206054688\n",
            "Epochs: [63/200] Accuracy:0.7023857142857143, Loss:0.1740553230047226\n",
            "Epochs: [64/200] Accuracy:0.7039714285714286, Loss:0.1690898984670639\n",
            "Epochs: [65/200] Accuracy:0.7027857142857142, Loss:0.16841071844100952\n",
            "Epochs: [66/200] Accuracy:0.7047428571428571, Loss:0.16272468864917755\n",
            "Epochs: [67/200] Accuracy:0.7044857142857143, Loss:0.16125136613845825\n",
            "Epochs: [68/200] Accuracy:0.7049285714285715, Loss:0.1603923738002777\n",
            "Epochs: [69/200] Accuracy:0.7055428571428571, Loss:0.15993322432041168\n",
            "Epochs: [70/200] Accuracy:0.7046, Loss:0.1624298095703125\n",
            "Epochs: [71/200] Accuracy:0.7061571428571428, Loss:0.16139774024486542\n",
            "Epochs: [72/200] Accuracy:0.7044428571428571, Loss:0.16425812244415283\n",
            "Epochs: [73/200] Accuracy:0.7064142857142857, Loss:0.1614314466714859\n",
            "Epochs: [74/200] Accuracy:0.7050142857142857, Loss:0.1624668389558792\n",
            "Epochs: [75/200] Accuracy:0.7065857142857143, Loss:0.1585007607936859\n",
            "Epochs: [76/200] Accuracy:0.7059142857142857, Loss:0.1582522988319397\n",
            "Epochs: [77/200] Accuracy:0.7069285714285715, Loss:0.15509894490242004\n",
            "Epochs: [78/200] Accuracy:0.7064571428571429, Loss:0.15466339886188507\n",
            "Epochs: [79/200] Accuracy:0.7069714285714286, Loss:0.15298917889595032\n",
            "plotting\n"
          ],
          "name": "stdout"
        },
        {
          "output_type": "stream",
          "text": [
            "/usr/local/lib/python3.7/dist-packages/sklearn/utils/linear_assignment_.py:128: FutureWarning: The linear_assignment function is deprecated in 0.21 and will be removed from 0.23. Use scipy.optimize.linear_sum_assignment instead.\n",
            "  FutureWarning)\n"
          ],
          "name": "stderr"
        },
        {
          "output_type": "stream",
          "text": [
            "Epochs: [80/200] Accuracy:0.7069571428571428, Loss:0.1525091975927353\n",
            "Epochs: [81/200] Accuracy:0.7069714285714286, Loss:0.15186552703380585\n",
            "Epochs: [82/200] Accuracy:0.7071142857142857, Loss:0.15126977860927582\n",
            "Epochs: [83/200] Accuracy:0.707, Loss:0.15137270092964172\n",
            "Epochs: [84/200] Accuracy:0.7076571428571429, Loss:0.15063051879405975\n",
            "Epochs: [85/200] Accuracy:0.7071285714285714, Loss:0.15145644545555115\n",
            "Epochs: [86/200] Accuracy:0.7080285714285715, Loss:0.15075914561748505\n",
            "Epochs: [87/200] Accuracy:0.7072142857142857, Loss:0.15276314318180084\n",
            "Epochs: [88/200] Accuracy:0.7085857142857143, Loss:0.1523161083459854\n",
            "Epochs: [89/200] Accuracy:0.7071142857142857, Loss:0.1559508591890335\n",
            "Epochs: [90/200] Accuracy:0.7091285714285714, Loss:0.1551310271024704\n",
            "Epochs: [91/200] Accuracy:0.7071714285714286, Loss:0.15873220562934875\n",
            "Epochs: [92/200] Accuracy:0.7093285714285714, Loss:0.1551005095243454\n",
            "Epochs: [93/200] Accuracy:0.7076714285714286, Loss:0.15514884889125824\n",
            "Epochs: [94/200] Accuracy:0.7093571428571429, Loss:0.14972592890262604\n",
            "Epochs: [95/200] Accuracy:0.7086714285714286, Loss:0.14802803099155426\n",
            "Epochs: [96/200] Accuracy:0.7094142857142857, Loss:0.1452714204788208\n",
            "Epochs: [97/200] Accuracy:0.7094, Loss:0.14466358721256256\n",
            "Epochs: [98/200] Accuracy:0.7088714285714286, Loss:0.14521551132202148\n",
            "Epochs: [99/200] Accuracy:0.7097, Loss:0.14517274498939514\n",
            "plotting\n"
          ],
          "name": "stdout"
        },
        {
          "output_type": "stream",
          "text": [
            "/usr/local/lib/python3.7/dist-packages/sklearn/utils/linear_assignment_.py:128: FutureWarning: The linear_assignment function is deprecated in 0.21 and will be removed from 0.23. Use scipy.optimize.linear_sum_assignment instead.\n",
            "  FutureWarning)\n"
          ],
          "name": "stderr"
        },
        {
          "output_type": "stream",
          "text": [
            "Epochs: [100/200] Accuracy:0.7087142857142857, Loss:0.1470400094985962\n",
            "Epochs: [101/200] Accuracy:0.7097714285714286, Loss:0.14593271911144257\n",
            "Epochs: [102/200] Accuracy:0.7085714285714285, Loss:0.1467142105102539\n",
            "Epochs: [103/200] Accuracy:0.7099, Loss:0.14438077807426453\n",
            "Epochs: [104/200] Accuracy:0.7092, Loss:0.14403490722179413\n",
            "Epochs: [105/200] Accuracy:0.7099285714285715, Loss:0.14217106997966766\n",
            "Epochs: [106/200] Accuracy:0.7095714285714285, Loss:0.14173968136310577\n",
            "Epochs: [107/200] Accuracy:0.7097, Loss:0.14109723269939423\n",
            "Epochs: [108/200] Accuracy:0.7098142857142857, Loss:0.1407642811536789\n",
            "Epochs: [109/200] Accuracy:0.7097857142857142, Loss:0.14106588065624237\n",
            "Epochs: [110/200] Accuracy:0.7103, Loss:0.14064061641693115\n",
            "Epochs: [111/200] Accuracy:0.7096857142857143, Loss:0.14146490395069122\n",
            "Epochs: [112/200] Accuracy:0.7105857142857143, Loss:0.14079776406288147\n",
            "Epochs: [113/200] Accuracy:0.7096714285714286, Loss:0.14184248447418213\n",
            "Epochs: [114/200] Accuracy:0.7108714285714286, Loss:0.14085859060287476\n",
            "Epochs: [115/200] Accuracy:0.7098428571428571, Loss:0.1418483853340149\n",
            "Epochs: [116/200] Accuracy:0.7110714285714286, Loss:0.14051780104637146\n",
            "Epochs: [117/200] Accuracy:0.7100428571428572, Loss:0.14120647311210632\n",
            "Epochs: [118/200] Accuracy:0.7111142857142857, Loss:0.13963457942008972\n",
            "Epochs: [119/200] Accuracy:0.7101571428571428, Loss:0.13992632925510406\n",
            "plotting\n"
          ],
          "name": "stdout"
        },
        {
          "output_type": "stream",
          "text": [
            "/usr/local/lib/python3.7/dist-packages/sklearn/utils/linear_assignment_.py:128: FutureWarning: The linear_assignment function is deprecated in 0.21 and will be removed from 0.23. Use scipy.optimize.linear_sum_assignment instead.\n",
            "  FutureWarning)\n"
          ],
          "name": "stderr"
        },
        {
          "output_type": "stream",
          "text": [
            "Epochs: [120/200] Accuracy:0.7110714285714286, Loss:0.1383563131093979\n",
            "Epochs: [121/200] Accuracy:0.7104142857142857, Loss:0.1383410096168518\n",
            "Epochs: [122/200] Accuracy:0.7111, Loss:0.13705529272556305\n",
            "Epochs: [123/200] Accuracy:0.7106, Loss:0.13690702617168427\n",
            "Epochs: [124/200] Accuracy:0.7110857142857143, Loss:0.136055588722229\n",
            "Epochs: [125/200] Accuracy:0.7108285714285715, Loss:0.13585975766181946\n",
            "Epochs: [126/200] Accuracy:0.7110142857142857, Loss:0.1354065090417862\n",
            "Epochs: [127/200] Accuracy:0.7110571428571428, Loss:0.13516299426555634\n",
            "Epochs: [128/200] Accuracy:0.7112285714285714, Loss:0.1349993199110031\n",
            "Epochs: [129/200] Accuracy:0.7113142857142857, Loss:0.13468173146247864\n",
            "Epochs: [130/200] Accuracy:0.7112, Loss:0.13472329080104828\n",
            "Epochs: [131/200] Accuracy:0.7116571428571429, Loss:0.13432660698890686\n",
            "Epochs: [132/200] Accuracy:0.7112571428571428, Loss:0.13455648720264435\n",
            "Epochs: [133/200] Accuracy:0.7119571428571428, Loss:0.13410057127475739\n",
            "Epochs: [134/200] Accuracy:0.7115571428571429, Loss:0.13456185162067413\n",
            "Epochs: [135/200] Accuracy:0.7122857142857143, Loss:0.13407813012599945\n",
            "Epochs: [136/200] Accuracy:0.7116, Loss:0.1348656713962555\n",
            "Epochs: [137/200] Accuracy:0.7124, Loss:0.13437259197235107\n",
            "Epochs: [138/200] Accuracy:0.7115285714285714, Loss:0.13557657599449158\n",
            "Epochs: [139/200] Accuracy:0.7125142857142858, Loss:0.1349976658821106\n",
            "plotting\n"
          ],
          "name": "stdout"
        },
        {
          "output_type": "stream",
          "text": [
            "/usr/local/lib/python3.7/dist-packages/sklearn/utils/linear_assignment_.py:128: FutureWarning: The linear_assignment function is deprecated in 0.21 and will be removed from 0.23. Use scipy.optimize.linear_sum_assignment instead.\n",
            "  FutureWarning)\n"
          ],
          "name": "stderr"
        },
        {
          "output_type": "stream",
          "text": [
            "Epochs: [140/200] Accuracy:0.7115571428571429, Loss:0.13647784292697906\n",
            "Epochs: [141/200] Accuracy:0.7127857142857142, Loss:0.1354825645685196\n",
            "Epochs: [142/200] Accuracy:0.7116571428571429, Loss:0.13661126792430878\n",
            "Epochs: [143/200] Accuracy:0.7128285714285715, Loss:0.13484784960746765\n",
            "Epochs: [144/200] Accuracy:0.7118857142857142, Loss:0.13501271605491638\n",
            "Epochs: [145/200] Accuracy:0.7129714285714286, Loss:0.13289327919483185\n",
            "Epochs: [146/200] Accuracy:0.7121571428571428, Loss:0.13242207467556\n",
            "Epochs: [147/200] Accuracy:0.7130857142857143, Loss:0.13092055916786194\n",
            "Epochs: [148/200] Accuracy:0.7125571428571429, Loss:0.13052137196063995\n",
            "Epochs: [149/200] Accuracy:0.7128571428571429, Loss:0.13006603717803955\n",
            "Epochs: [150/200] Accuracy:0.7130857142857143, Loss:0.12989269196987152\n",
            "Epochs: [151/200] Accuracy:0.7127428571428571, Loss:0.13022109866142273\n",
            "Epochs: [152/200] Accuracy:0.7131428571428572, Loss:0.13000929355621338\n",
            "Epochs: [153/200] Accuracy:0.7127428571428571, Loss:0.13063748180866241\n",
            "Epochs: [154/200] Accuracy:0.7133571428571429, Loss:0.1301443725824356\n",
            "Epochs: [155/200] Accuracy:0.7128571428571429, Loss:0.13070784509181976\n",
            "Epochs: [156/200] Accuracy:0.7135285714285714, Loss:0.12991228699684143\n",
            "Epochs: [157/200] Accuracy:0.7128571428571429, Loss:0.1302562952041626\n",
            "Epochs: [158/200] Accuracy:0.7136857142857143, Loss:0.12930700182914734\n",
            "Epochs: [159/200] Accuracy:0.7128857142857142, Loss:0.12943437695503235\n",
            "plotting\n"
          ],
          "name": "stdout"
        },
        {
          "output_type": "stream",
          "text": [
            "/usr/local/lib/python3.7/dist-packages/sklearn/utils/linear_assignment_.py:128: FutureWarning: The linear_assignment function is deprecated in 0.21 and will be removed from 0.23. Use scipy.optimize.linear_sum_assignment instead.\n",
            "  FutureWarning)\n"
          ],
          "name": "stderr"
        },
        {
          "output_type": "stream",
          "text": [
            "Epochs: [160/200] Accuracy:0.7136714285714286, Loss:0.12852400541305542\n",
            "Epochs: [161/200] Accuracy:0.7130571428571428, Loss:0.12851054966449738\n",
            "Epochs: [162/200] Accuracy:0.7136285714285714, Loss:0.1277747005224228\n",
            "Epochs: [163/200] Accuracy:0.7132857142857143, Loss:0.1276887208223343\n",
            "Epochs: [164/200] Accuracy:0.7135714285714285, Loss:0.12717454135417938\n",
            "Epochs: [165/200] Accuracy:0.7133571428571429, Loss:0.12704667448997498\n",
            "Epochs: [166/200] Accuracy:0.7135142857142858, Loss:0.12673556804656982\n",
            "Epochs: [167/200] Accuracy:0.7134142857142857, Loss:0.12656821310520172\n",
            "Epochs: [168/200] Accuracy:0.7134428571428572, Loss:0.12641285359859467\n",
            "Epochs: [169/200] Accuracy:0.7136285714285714, Loss:0.12619994580745697\n",
            "Epochs: [170/200] Accuracy:0.7135714285714285, Loss:0.12615562975406647\n",
            "Epochs: [171/200] Accuracy:0.7136, Loss:0.12589424848556519\n",
            "Epochs: [172/200] Accuracy:0.7135571428571429, Loss:0.1259324699640274\n",
            "Epochs: [173/200] Accuracy:0.7137857142857142, Loss:0.12562614679336548\n",
            "Epochs: [174/200] Accuracy:0.7135857142857143, Loss:0.1257392019033432\n",
            "Epochs: [175/200] Accuracy:0.7138571428571429, Loss:0.12539644539356232\n",
            "Epochs: [176/200] Accuracy:0.7136714285714286, Loss:0.1255977898836136\n",
            "Epochs: [177/200] Accuracy:0.7139428571428571, Loss:0.12522782385349274\n",
            "Epochs: [178/200] Accuracy:0.7137714285714286, Loss:0.12555205821990967\n",
            "Epochs: [179/200] Accuracy:0.7140285714285715, Loss:0.12516279518604279\n",
            "plotting\n"
          ],
          "name": "stdout"
        },
        {
          "output_type": "stream",
          "text": [
            "/usr/local/lib/python3.7/dist-packages/sklearn/utils/linear_assignment_.py:128: FutureWarning: The linear_assignment function is deprecated in 0.21 and will be removed from 0.23. Use scipy.optimize.linear_sum_assignment instead.\n",
            "  FutureWarning)\n"
          ],
          "name": "stderr"
        },
        {
          "output_type": "stream",
          "text": [
            "Epochs: [180/200] Accuracy:0.7137428571428571, Loss:0.1256561577320099\n",
            "Epochs: [181/200] Accuracy:0.7141285714285714, Loss:0.12524542212486267\n",
            "Epochs: [182/200] Accuracy:0.7137285714285714, Loss:0.12594032287597656\n",
            "Epochs: [183/200] Accuracy:0.7142714285714286, Loss:0.12547221779823303\n",
            "Epochs: [184/200] Accuracy:0.7137285714285714, Loss:0.1263233721256256\n",
            "Epochs: [185/200] Accuracy:0.7142714285714286, Loss:0.1256919503211975\n",
            "Epochs: [186/200] Accuracy:0.7136857142857143, Loss:0.12650083005428314\n",
            "Epochs: [187/200] Accuracy:0.7143857142857143, Loss:0.12556450068950653\n",
            "Epochs: [188/200] Accuracy:0.7137857142857142, Loss:0.12604136765003204\n",
            "Epochs: [189/200] Accuracy:0.7143571428571428, Loss:0.12480984628200531\n",
            "Epochs: [190/200] Accuracy:0.7140571428571428, Loss:0.12484681606292725\n",
            "Epochs: [191/200] Accuracy:0.7143, Loss:0.12361061573028564\n",
            "Epochs: [192/200] Accuracy:0.7143, Loss:0.12340103089809418\n",
            "Epochs: [193/200] Accuracy:0.7143428571428572, Loss:0.12251226603984833\n",
            "Epochs: [194/200] Accuracy:0.7145142857142858, Loss:0.12229804694652557\n",
            "Epochs: [195/200] Accuracy:0.7144714285714285, Loss:0.12188879400491714\n",
            "Epochs: [196/200] Accuracy:0.7145, Loss:0.12173239141702652\n",
            "Epochs: [197/200] Accuracy:0.7145857142857143, Loss:0.12171177566051483\n",
            "Epochs: [198/200] Accuracy:0.7145714285714285, Loss:0.12154845148324966\n",
            "Epochs: [199/200] Accuracy:0.7145, Loss:0.121759332716465\n"
          ],
          "name": "stdout"
        },
        {
          "output_type": "error",
          "ename": "ValueError",
          "evalue": "ignored",
          "traceback": [
            "\u001b[0;31m---------------------------------------------------------------------------\u001b[0m",
            "\u001b[0;31mAssertionError\u001b[0m                            Traceback (most recent call last)",
            "\u001b[0;32m/usr/local/lib/python3.7/dist-packages/pandas/core/internals/construction.py\u001b[0m in \u001b[0;36m_list_to_arrays\u001b[0;34m(data, columns, coerce_float, dtype)\u001b[0m\n\u001b[1;32m    563\u001b[0m     \u001b[0;32mtry\u001b[0m\u001b[0;34m:\u001b[0m\u001b[0;34m\u001b[0m\u001b[0;34m\u001b[0m\u001b[0m\n\u001b[0;32m--> 564\u001b[0;31m         \u001b[0mcolumns\u001b[0m \u001b[0;34m=\u001b[0m \u001b[0m_validate_or_indexify_columns\u001b[0m\u001b[0;34m(\u001b[0m\u001b[0mcontent\u001b[0m\u001b[0;34m,\u001b[0m \u001b[0mcolumns\u001b[0m\u001b[0;34m)\u001b[0m\u001b[0;34m\u001b[0m\u001b[0;34m\u001b[0m\u001b[0m\n\u001b[0m\u001b[1;32m    565\u001b[0m         \u001b[0mresult\u001b[0m \u001b[0;34m=\u001b[0m \u001b[0m_convert_object_array\u001b[0m\u001b[0;34m(\u001b[0m\u001b[0mcontent\u001b[0m\u001b[0;34m,\u001b[0m \u001b[0mdtype\u001b[0m\u001b[0;34m=\u001b[0m\u001b[0mdtype\u001b[0m\u001b[0;34m,\u001b[0m \u001b[0mcoerce_float\u001b[0m\u001b[0;34m=\u001b[0m\u001b[0mcoerce_float\u001b[0m\u001b[0;34m)\u001b[0m\u001b[0;34m\u001b[0m\u001b[0;34m\u001b[0m\u001b[0m\n",
            "\u001b[0;32m/usr/local/lib/python3.7/dist-packages/pandas/core/internals/construction.py\u001b[0m in \u001b[0;36m_validate_or_indexify_columns\u001b[0;34m(content, columns)\u001b[0m\n\u001b[1;32m    688\u001b[0m             raise AssertionError(\n\u001b[0;32m--> 689\u001b[0;31m                 \u001b[0;34mf\"{len(columns)} columns passed, passed data had \"\u001b[0m\u001b[0;34m\u001b[0m\u001b[0;34m\u001b[0m\u001b[0m\n\u001b[0m\u001b[1;32m    690\u001b[0m                 \u001b[0;34mf\"{len(content)} columns\"\u001b[0m\u001b[0;34m\u001b[0m\u001b[0;34m\u001b[0m\u001b[0m\n",
            "\u001b[0;31mAssertionError\u001b[0m: 2 columns passed, passed data had 3 columns",
            "\nThe above exception was the direct cause of the following exception:\n",
            "\u001b[0;31mValueError\u001b[0m                                Traceback (most recent call last)",
            "\u001b[0;32m<ipython-input-15-376e1ff18367>\u001b[0m in \u001b[0;36m<module>\u001b[0;34m()\u001b[0m\n\u001b[1;32m      8\u001b[0m \u001b[0;34m\u001b[0m\u001b[0m\n\u001b[1;32m      9\u001b[0m     \u001b[0mae_kmeans\u001b[0m \u001b[0;34m=\u001b[0m \u001b[0mAE_KMeans\u001b[0m\u001b[0;34m(\u001b[0m\u001b[0mn_clusters\u001b[0m\u001b[0;34m=\u001b[0m\u001b[0;36m10\u001b[0m\u001b[0;34m,\u001b[0m \u001b[0mautoencoder\u001b[0m\u001b[0;34m=\u001b[0m\u001b[0mautoencoder\u001b[0m\u001b[0;34m,\u001b[0m \u001b[0mlatent_dim\u001b[0m\u001b[0;34m=\u001b[0m\u001b[0;36m10\u001b[0m\u001b[0;34m,\u001b[0m \u001b[0mcluster_centers\u001b[0m\u001b[0;34m=\u001b[0m\u001b[0;32mNone\u001b[0m\u001b[0;34m,\u001b[0m \u001b[0malpha\u001b[0m\u001b[0;34m=\u001b[0m\u001b[0;36m1.0\u001b[0m\u001b[0;34m)\u001b[0m\u001b[0;34m\u001b[0m\u001b[0;34m\u001b[0m\u001b[0m\n\u001b[0;32m---> 10\u001b[0;31m     \u001b[0mtrain\u001b[0m\u001b[0;34m(\u001b[0m\u001b[0mdata\u001b[0m\u001b[0;34m=\u001b[0m\u001b[0mx\u001b[0m\u001b[0;34m,\u001b[0m \u001b[0mlabels\u001b[0m\u001b[0;34m=\u001b[0m\u001b[0my\u001b[0m\u001b[0;34m,\u001b[0m \u001b[0mmodel\u001b[0m\u001b[0;34m=\u001b[0m\u001b[0mae_kmeans\u001b[0m\u001b[0;34m,\u001b[0m \u001b[0mnum_epochs\u001b[0m\u001b[0;34m=\u001b[0m\u001b[0mepochs\u001b[0m\u001b[0;34m)\u001b[0m\u001b[0;34m\u001b[0m\u001b[0;34m\u001b[0m\u001b[0m\n\u001b[0m",
            "\u001b[0;32m<ipython-input-11-938665857ccf>\u001b[0m in \u001b[0;36mtrain\u001b[0;34m(**kwargs)\u001b[0m\n\u001b[1;32m     50\u001b[0m         \u001b[0mprint\u001b[0m\u001b[0;34m(\u001b[0m\u001b[0;34m'Epochs: [{}/{}] Accuracy:{}, Loss:{}'\u001b[0m\u001b[0;34m.\u001b[0m\u001b[0mformat\u001b[0m\u001b[0;34m(\u001b[0m\u001b[0mepoch\u001b[0m\u001b[0;34m,\u001b[0m \u001b[0mnum_epochs\u001b[0m\u001b[0;34m,\u001b[0m \u001b[0maccuracy\u001b[0m\u001b[0;34m,\u001b[0m \u001b[0mloss\u001b[0m\u001b[0;34m)\u001b[0m\u001b[0;34m)\u001b[0m\u001b[0;34m\u001b[0m\u001b[0;34m\u001b[0m\u001b[0m\n\u001b[1;32m     51\u001b[0m     \u001b[0mvisualize\u001b[0m\u001b[0;34m(\u001b[0m\u001b[0mrow\u001b[0m\u001b[0;34m)\u001b[0m\u001b[0;34m\u001b[0m\u001b[0;34m\u001b[0m\u001b[0m\n\u001b[0;32m---> 52\u001b[0;31m     \u001b[0mdf\u001b[0m \u001b[0;34m=\u001b[0m \u001b[0mpd\u001b[0m\u001b[0;34m.\u001b[0m\u001b[0mDataFrame\u001b[0m\u001b[0;34m(\u001b[0m\u001b[0mrow\u001b[0m\u001b[0;34m,\u001b[0m \u001b[0mcolumns\u001b[0m\u001b[0;34m=\u001b[0m\u001b[0;34m[\u001b[0m\u001b[0;34m'epochs'\u001b[0m\u001b[0;34m,\u001b[0m \u001b[0;34m'accuracy'\u001b[0m\u001b[0;34m]\u001b[0m\u001b[0;34m)\u001b[0m\u001b[0;34m\u001b[0m\u001b[0;34m\u001b[0m\u001b[0m\n\u001b[0m\u001b[1;32m     53\u001b[0m     \u001b[0mdf\u001b[0m\u001b[0;34m.\u001b[0m\u001b[0mto_csv\u001b[0m\u001b[0;34m(\u001b[0m\u001b[0;34m'log.csv'\u001b[0m\u001b[0;34m)\u001b[0m\u001b[0;34m\u001b[0m\u001b[0;34m\u001b[0m\u001b[0m\n",
            "\u001b[0;32m/usr/local/lib/python3.7/dist-packages/pandas/core/frame.py\u001b[0m in \u001b[0;36m__init__\u001b[0;34m(self, data, index, columns, dtype, copy)\u001b[0m\n\u001b[1;32m    507\u001b[0m                     \u001b[0;32mif\u001b[0m \u001b[0mis_named_tuple\u001b[0m\u001b[0;34m(\u001b[0m\u001b[0mdata\u001b[0m\u001b[0;34m[\u001b[0m\u001b[0;36m0\u001b[0m\u001b[0;34m]\u001b[0m\u001b[0;34m)\u001b[0m \u001b[0;32mand\u001b[0m \u001b[0mcolumns\u001b[0m \u001b[0;32mis\u001b[0m \u001b[0;32mNone\u001b[0m\u001b[0;34m:\u001b[0m\u001b[0;34m\u001b[0m\u001b[0;34m\u001b[0m\u001b[0m\n\u001b[1;32m    508\u001b[0m                         \u001b[0mcolumns\u001b[0m \u001b[0;34m=\u001b[0m \u001b[0mdata\u001b[0m\u001b[0;34m[\u001b[0m\u001b[0;36m0\u001b[0m\u001b[0;34m]\u001b[0m\u001b[0;34m.\u001b[0m\u001b[0m_fields\u001b[0m\u001b[0;34m\u001b[0m\u001b[0;34m\u001b[0m\u001b[0m\n\u001b[0;32m--> 509\u001b[0;31m                     \u001b[0marrays\u001b[0m\u001b[0;34m,\u001b[0m \u001b[0mcolumns\u001b[0m \u001b[0;34m=\u001b[0m \u001b[0mto_arrays\u001b[0m\u001b[0;34m(\u001b[0m\u001b[0mdata\u001b[0m\u001b[0;34m,\u001b[0m \u001b[0mcolumns\u001b[0m\u001b[0;34m,\u001b[0m \u001b[0mdtype\u001b[0m\u001b[0;34m=\u001b[0m\u001b[0mdtype\u001b[0m\u001b[0;34m)\u001b[0m\u001b[0;34m\u001b[0m\u001b[0;34m\u001b[0m\u001b[0m\n\u001b[0m\u001b[1;32m    510\u001b[0m                     \u001b[0mcolumns\u001b[0m \u001b[0;34m=\u001b[0m \u001b[0mensure_index\u001b[0m\u001b[0;34m(\u001b[0m\u001b[0mcolumns\u001b[0m\u001b[0;34m)\u001b[0m\u001b[0;34m\u001b[0m\u001b[0;34m\u001b[0m\u001b[0m\n\u001b[1;32m    511\u001b[0m \u001b[0;34m\u001b[0m\u001b[0m\n",
            "\u001b[0;32m/usr/local/lib/python3.7/dist-packages/pandas/core/internals/construction.py\u001b[0m in \u001b[0;36mto_arrays\u001b[0;34m(data, columns, coerce_float, dtype)\u001b[0m\n\u001b[1;32m    522\u001b[0m         \u001b[0;32mreturn\u001b[0m \u001b[0;34m[\u001b[0m\u001b[0;34m]\u001b[0m\u001b[0;34m,\u001b[0m \u001b[0;34m[\u001b[0m\u001b[0;34m]\u001b[0m  \u001b[0;31m# columns if columns is not None else []\u001b[0m\u001b[0;34m\u001b[0m\u001b[0;34m\u001b[0m\u001b[0m\n\u001b[1;32m    523\u001b[0m     \u001b[0;32mif\u001b[0m \u001b[0misinstance\u001b[0m\u001b[0;34m(\u001b[0m\u001b[0mdata\u001b[0m\u001b[0;34m[\u001b[0m\u001b[0;36m0\u001b[0m\u001b[0;34m]\u001b[0m\u001b[0;34m,\u001b[0m \u001b[0;34m(\u001b[0m\u001b[0mlist\u001b[0m\u001b[0;34m,\u001b[0m \u001b[0mtuple\u001b[0m\u001b[0;34m)\u001b[0m\u001b[0;34m)\u001b[0m\u001b[0;34m:\u001b[0m\u001b[0;34m\u001b[0m\u001b[0;34m\u001b[0m\u001b[0m\n\u001b[0;32m--> 524\u001b[0;31m         \u001b[0;32mreturn\u001b[0m \u001b[0m_list_to_arrays\u001b[0m\u001b[0;34m(\u001b[0m\u001b[0mdata\u001b[0m\u001b[0;34m,\u001b[0m \u001b[0mcolumns\u001b[0m\u001b[0;34m,\u001b[0m \u001b[0mcoerce_float\u001b[0m\u001b[0;34m=\u001b[0m\u001b[0mcoerce_float\u001b[0m\u001b[0;34m,\u001b[0m \u001b[0mdtype\u001b[0m\u001b[0;34m=\u001b[0m\u001b[0mdtype\u001b[0m\u001b[0;34m)\u001b[0m\u001b[0;34m\u001b[0m\u001b[0;34m\u001b[0m\u001b[0m\n\u001b[0m\u001b[1;32m    525\u001b[0m     \u001b[0;32melif\u001b[0m \u001b[0misinstance\u001b[0m\u001b[0;34m(\u001b[0m\u001b[0mdata\u001b[0m\u001b[0;34m[\u001b[0m\u001b[0;36m0\u001b[0m\u001b[0;34m]\u001b[0m\u001b[0;34m,\u001b[0m \u001b[0mabc\u001b[0m\u001b[0;34m.\u001b[0m\u001b[0mMapping\u001b[0m\u001b[0;34m)\u001b[0m\u001b[0;34m:\u001b[0m\u001b[0;34m\u001b[0m\u001b[0;34m\u001b[0m\u001b[0m\n\u001b[1;32m    526\u001b[0m         return _list_of_dict_to_arrays(\n",
            "\u001b[0;32m/usr/local/lib/python3.7/dist-packages/pandas/core/internals/construction.py\u001b[0m in \u001b[0;36m_list_to_arrays\u001b[0;34m(data, columns, coerce_float, dtype)\u001b[0m\n\u001b[1;32m    565\u001b[0m         \u001b[0mresult\u001b[0m \u001b[0;34m=\u001b[0m \u001b[0m_convert_object_array\u001b[0m\u001b[0;34m(\u001b[0m\u001b[0mcontent\u001b[0m\u001b[0;34m,\u001b[0m \u001b[0mdtype\u001b[0m\u001b[0;34m=\u001b[0m\u001b[0mdtype\u001b[0m\u001b[0;34m,\u001b[0m \u001b[0mcoerce_float\u001b[0m\u001b[0;34m=\u001b[0m\u001b[0mcoerce_float\u001b[0m\u001b[0;34m)\u001b[0m\u001b[0;34m\u001b[0m\u001b[0;34m\u001b[0m\u001b[0m\n\u001b[1;32m    566\u001b[0m     \u001b[0;32mexcept\u001b[0m \u001b[0mAssertionError\u001b[0m \u001b[0;32mas\u001b[0m \u001b[0me\u001b[0m\u001b[0;34m:\u001b[0m\u001b[0;34m\u001b[0m\u001b[0;34m\u001b[0m\u001b[0m\n\u001b[0;32m--> 567\u001b[0;31m         \u001b[0;32mraise\u001b[0m \u001b[0mValueError\u001b[0m\u001b[0;34m(\u001b[0m\u001b[0me\u001b[0m\u001b[0;34m)\u001b[0m \u001b[0;32mfrom\u001b[0m \u001b[0me\u001b[0m\u001b[0;34m\u001b[0m\u001b[0;34m\u001b[0m\u001b[0m\n\u001b[0m\u001b[1;32m    568\u001b[0m     \u001b[0;32mreturn\u001b[0m \u001b[0mresult\u001b[0m\u001b[0;34m,\u001b[0m \u001b[0mcolumns\u001b[0m\u001b[0;34m\u001b[0m\u001b[0;34m\u001b[0m\u001b[0m\n\u001b[1;32m    569\u001b[0m \u001b[0;34m\u001b[0m\u001b[0m\n",
            "\u001b[0;31mValueError\u001b[0m: 2 columns passed, passed data had 3 columns"
          ]
        },
        {
          "output_type": "display_data",
          "data": {
            "image/png": "[encoded data removed]",
            "text/plain": [
              "<Figure size 864x432 with 2 Axes>"
            ]
          },
          "metadata": {
            "tags": [],
            "needs_background": "light"
          }
        }
      ]
    },
    {
      "cell_type": "code",
      "metadata": {
        "id": "8kBEKORwVTAA"
      },
      "source": [
        "# ------------------ THE ERRORS ABOVE PLOTTING CAN BE IGNORED ------------------ "
      ],
      "execution_count": null,
      "outputs": []
    }
  ]
}