{
  "nbformat": 4,
  "nbformat_minor": 0,
  "metadata": {
    "colab": {
      "name": "[CIS5525]Deep Clustering-KMeans",
      "provenance": [],
      "collapsed_sections": []
    },
    "kernelspec": {
      "name": "python3",
      "display_name": "Python 3"
    },
    "accelerator": "GPU"
  },
  "cells": [
    {
      "cell_type": "code",
      "metadata": {
        "id": "kTyhVce2Sg8a",
        "colab": {
          "base_uri": "https://localhost:8080/"
        },
        "outputId": "627793eb-ed70-4ca1-9531-bca6c7ca31eb"
      },
      "source": [
        "import torch\n",
        "\n",
        "from tqdm import tqdm\n",
        "x = torch.cat((torch.randn(2000, 2),torch.randn(1500, 2)+13,torch.mm(torch.randn(1000, 2)+6,3*(torch.rand(2,2)-0.2))),0)\n",
        "x # 2D plane"
      ],
      "execution_count": null,
      "outputs": [
        {
          "output_type": "execute_result",
          "data": {
            "text/plain": [
              "tensor([[ 0.6528, -0.8448],\n",
              "        [-0.7423,  0.4280],\n",
              "        [-1.0226,  2.2944],\n",
              "        ...,\n",
              "        [17.2716, -0.0499],\n",
              "        [13.5834,  0.4763],\n",
              "        [15.2199, -0.5576]])"
            ]
          },
          "metadata": {
            "tags": []
          },
          "execution_count": 209
        }
      ]
    },
    {
      "cell_type": "code",
      "metadata": {
        "id": "xxkv8jH5cfGr"
      },
      "source": [
        "import torch\n",
        "import time\n",
        "from tqdm import tqdm\n",
        "\n",
        "# https://wei2624.github.io/MachineLearning/usv_kmeans/\n",
        "# https://stackoverflow.com/questions/56168482/how-to-convert-some-tensorflow-code-into-pytorch-version\n",
        "# https://github.com/google-research/google-research/blob/master/yoto/optimizers/yoto.py\n",
        "# https://www.python-engineer.com/courses/mlfromscratch/12_kmeans/\n",
        "# https://discuss.pytorch.org/t/k-means-loss-calculation/22041\n",
        "\n",
        "\n",
        "class KMEANS:\n",
        "    def __init__(self, n_clusters=50, max_iter=None, verbose=True):\n",
        "        self.n_clusters = n_clusters\n",
        "        self.labels = None  # W shape: [x.shape[0],n_cluster] --- discrete: 0/1 --> differentable: prob matrix\n",
        "        self.dists = None   # D shape: [x.shape[0],n_cluster]\n",
        "        self.centers = None # center coordinates - (n_clusters,x.shape[1]) = (n_clusters,2)\n",
        "        self.variation = torch.Tensor([float(\"Inf\")])\n",
        "        self.verbose = verbose\n",
        "        self.started = False\n",
        "        self.max_iter = max_iter\n",
        "        self.count = 0\n",
        "        self.loss = torch.empty(0,2)\n",
        "\n",
        "    def fit(self, x):\n",
        "        # Randomly select the initial center point, for faster convergence speed, use kmeans++ initialization method in sklearn\n",
        "        init_cluster_index = torch.randint(0, x.shape[0], (self.n_clusters,))        # torch.randint(low=0, high, size) - init cluster index\n",
        "        init_clusters = x[init_cluster_index] \n",
        "        self.centers = init_clusters\n",
        "        while True:\n",
        "            # compute distance to all cluster centers\n",
        "            self.nearest_center(x)\n",
        "            # Update center point\n",
        "            self.update_center(x)\n",
        "            if self.verbose:\n",
        "                print(self.variation, torch.argmin(self.dists, (0)))      # index of min - keep row dim\n",
        "            if torch.abs(self.variation) < 1e-2 and self.max_iter is None:\n",
        "                break\n",
        "            elif self.max_iter is not None and self.count == self.max_iter:\n",
        "                break\n",
        "            self.count += 1                       # num interation\n",
        "            print(\"Finished \" + str(self.count) +\" iterations.\")\n",
        "\n",
        "    def nearest_center(self, x):\n",
        "        labels = torch.zeros((x.shape[0],self.centers.shape[0]))                    # discrete: 0/1 --> differentable: prob matrix\n",
        "        dists = torch.zeros((0, self.n_clusters))                                   # rebuild distance matrix\n",
        "        current_loss = 0\n",
        "        for i, sample in enumerate(x):\n",
        "            dist = torch.sum(torch.mul(sample - self.centers, sample - self.centers), (1))  \n",
        "            cluster_index = torch.argmin(dist)                        # take index of min dist = cluster index - assign sample to cluster\n",
        "            labels[i][cluster_index] = 1\n",
        "            dists = torch.cat([dists, dist.unsqueeze(0)], (0))        # keep row = num of cluster centers\n",
        "            current_loss = current_loss + torch.sum(torch.mul(labels[i],dist))\n",
        "        loss_epoch = torch.tensor([[current_loss,self.count]])           # pack current_loss & epoch together \n",
        "        self.loss = torch.cat([self.loss, loss_epoch])                   # concat to loss tensor - [current_loss,self.count]\n",
        "\n",
        "        self.labels = labels  # update labels for points - matrix W \n",
        "        if self.started:\n",
        "            self.variation = torch.sum(self.dists - dists)\n",
        "        self.dists = dists\n",
        "        self.started = True\n",
        "\n",
        "#----------------------------------CHANGE HERE------------------------------------\n",
        "\n",
        "    def update_center(self, x):\n",
        "        centers = torch.empty((0, x.shape[1]))                          # center_coords, # dimensions of data --> Autoencoder\n",
        "        for j in range(self.n_clusters):                                # loop all cluster centers\n",
        "            cluster_samples = torch.empty((0, x.shape[1]))\n",
        "            for i in range(x.shape[0]):\n",
        "              if  self.labels[i][j] == 1:\n",
        "                cluster_samples = torch.cat([cluster_samples,torch.index_select(x,0,torch.tensor([i]))])\n",
        "            centers = torch.cat([centers, torch.mean(cluster_samples, (0)).unsqueeze(0)], (0))       # select points in cluster & take mean - differentiable (same formula) \n",
        "        self.centers = centers                                          # update center coords\n",
        "    \n",
        "    def visualize(self):\n",
        "      %matplotlib inline\n",
        "      import matplotlib.pyplot as plt\n",
        "      import numpy as np\n",
        "\n",
        "      fig, (ax1, ax2) = plt.subplots(1, 2, figsize=(12, 6))\n",
        "      fig.suptitle('Plotting results')\n",
        "      loss_term = self.loss.index_select(1, torch.LongTensor([0])).numpy()\n",
        "      epoch = self.loss.index_select(1, torch.LongTensor([1])).numpy()\n",
        "      ax1.plot(epoch, loss_term)\n",
        "      ax1.set_title('Loss w.r.t. epochs')\n",
        "\n",
        "      x_x=x.index_select(1, torch.LongTensor([0]))\n",
        "      x_y=x.index_select(1, torch.LongTensor([1]))\n",
        "      centers_x=self.centers.index_select(1, torch.LongTensor([0]))\n",
        "      centers_y=self.centers.index_select(1, torch.LongTensor([1]))\n",
        "      ax2.scatter(x_x,x_y, marker='+',)\n",
        "      ax2.scatter(centers_x,centers_y,marker='.', color='black')\n",
        "      ax2.set_title('Data & cluster centers')"
      ],
      "execution_count": null,
      "outputs": []
    },
    {
      "cell_type": "code",
      "metadata": {
        "id": "FR2Xigf3cfyU",
        "colab": {
          "base_uri": "https://localhost:8080/",
          "height": 1000
        },
        "outputId": "59b6c51b-b93d-4fc8-c147-2d2f71eeee61"
      },
      "source": [
        "k = KMEANS(n_clusters=50,max_iter=70,verbose=False)\n",
        "k.fit(x)\n",
        "k.visualize()"
      ],
      "execution_count": null,
      "outputs": [
        {
          "output_type": "stream",
          "text": [
            "Finished 1 iterations.\n",
            "Finished 2 iterations.\n",
            "Finished 3 iterations.\n",
            "Finished 4 iterations.\n",
            "Finished 5 iterations.\n",
            "Finished 6 iterations.\n",
            "Finished 7 iterations.\n",
            "Finished 8 iterations.\n",
            "Finished 9 iterations.\n",
            "Finished 10 iterations.\n",
            "Finished 11 iterations.\n",
            "Finished 12 iterations.\n",
            "Finished 13 iterations.\n",
            "Finished 14 iterations.\n",
            "Finished 15 iterations.\n",
            "Finished 16 iterations.\n",
            "Finished 17 iterations.\n",
            "Finished 18 iterations.\n",
            "Finished 19 iterations.\n",
            "Finished 20 iterations.\n",
            "Finished 21 iterations.\n",
            "Finished 22 iterations.\n",
            "Finished 23 iterations.\n",
            "Finished 24 iterations.\n",
            "Finished 25 iterations.\n",
            "Finished 26 iterations.\n",
            "Finished 27 iterations.\n",
            "Finished 28 iterations.\n",
            "Finished 29 iterations.\n",
            "Finished 30 iterations.\n",
            "Finished 31 iterations.\n",
            "Finished 32 iterations.\n",
            "Finished 33 iterations.\n",
            "Finished 34 iterations.\n",
            "Finished 35 iterations.\n",
            "Finished 36 iterations.\n",
            "Finished 37 iterations.\n",
            "Finished 38 iterations.\n",
            "Finished 39 iterations.\n",
            "Finished 40 iterations.\n",
            "Finished 41 iterations.\n",
            "Finished 42 iterations.\n",
            "Finished 43 iterations.\n",
            "Finished 44 iterations.\n"
          ],
          "name": "stdout"
        },
        {
          "output_type": "display_data",
          "data": {
            "image/png": "[encoded data removed]",
            "text/plain": [
              "<Figure size 864x432 with 2 Axes>"
            ]
          },
          "metadata": {
            "tags": [],
            "needs_background": "light"
          }
        }
      ]
    },
    {
      "cell_type": "code",
      "metadata": {
        "id": "Lr4WwEMkCysk"
      },
      "source": [
        ""
      ],
      "execution_count": null,
      "outputs": []
    }
  ]
}